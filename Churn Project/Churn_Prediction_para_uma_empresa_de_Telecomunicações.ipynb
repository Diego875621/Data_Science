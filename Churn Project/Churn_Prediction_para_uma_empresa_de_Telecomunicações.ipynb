{
  "nbformat": 4,
  "nbformat_minor": 0,
  "metadata": {
    "colab": {
      "provenance": [],
      "collapsed_sections": [],
      "include_colab_link": true
    },
    "kernelspec": {
      "name": "python3",
      "display_name": "Python 3"
    }
  },
  "cells": [
    {
      "cell_type": "markdown",
      "metadata": {
        "id": "view-in-github",
        "colab_type": "text"
      },
      "source": [
        "<a href=\"https://colab.research.google.com/github/Diego875621/Data_Science/blob/main/Churn%20Project/Churn_Prediction_para_uma_empresa_de_Telecomunica%C3%A7%C3%B5es.ipynb\" target=\"_parent\"><img src=\"https://colab.research.google.com/assets/colab-badge.svg\" alt=\"Open In Colab\"/></a>"
      ]
    },
    {
      "cell_type": "markdown",
      "metadata": {
        "id": "sC2BFMOKN1M7"
      },
      "source": [
        "---\n",
        "<img alt=\"Colaboratory logo\" width=\"15%\" src=\"https://raw.githubusercontent.com/carlosfab/escola-data-science/master/img/novo_logo_bg_claro.png\">\n",
        "\n",
        "---\n",
        "\n",
        "\n"
      ]
    },
    {
      "cell_type": "markdown",
      "metadata": {
        "id": "IR56trFcPcC1"
      },
      "source": [
        " **Introdução - Churn Prediction**\n",
        "\n",
        " <p align=center>\n",
        "<img src=\"https://github.com/Diego875621/Data_Science/blob/main/Churn%20Project/4029028.jpg?raw=true\" width=\"40%\"></p>\n",
        "<p align=center>Fonte: Freepik\n",
        "\n",
        "\n",
        "\n",
        "Vamos supor que você usa um plano de internet móvel no celular e todo mês é debitado um valor na sua conta. Porém depois de um tempo, você passa a trabalhar em um local que tem wi-fi e decide cancelar a internet do seu celular. Para a empresa de internet, você foi um cliente que aumentou Churn da empresa, ou seja cancelou o vínculo com essa empresa.\n",
        "\n",
        "*Churn rate*, ou simplesmente *churn*, representa a taxa de evasão da sua base de clientes. Em serviços como Spotify ou Netflix, ela representaria a taxa de cancelamento de assinaturas. Dessa forma, essa métrica é muito importante para saber quais tipos de clientes tendem a cancelar os serviços e o que pode ser feito para se descobrir e solucionar um problema da empresa.\n",
        "\n",
        "Considerando o Custo de Aquisição de Cliente (CAC), por exemplo, gastos com marketing e tráfego pago, geralmente é maior que o custo de manter clientes, o churn rate pode ser uma ferramenta eficaz para identificar potenciais cancelamentos e dessa forma, promover ações direcionadas para convencer o cliente a permanecer utilizando o serviço da empresa.\n",
        "\n",
        "Podemos aplicar e analisar essa métrica ao Data Science e retirar insights e possíveis soluções a partir da análise dos dados juntamente com os algoritmos de Machine Learning. A fim de exemplificar esse raciocício, abaixo será analisada o dataset encontrado na plataforma de ensino da IBM Developer que trata de um problema típico de uma companhia fictícia de telecomunicações.\n",
        "\n",
        "O *dataset* completo pode ser encontrado [neste link](https://raw.githubusercontent.com/carlosfab/dsnp2/master/datasets/WA_Fn-UseC_-Telco-Customer-Churn.csv). Apesar de não haver informações explícitas disponíves, os nomes das colunas permitem um entendimento a respeito do problema.\n",
        "\n",
        "\n"
      ]
    },
    {
      "cell_type": "markdown",
      "source": [
        "**Dicionário de Variáveis**\n",
        "\n",
        "<p align=center>\n",
        "<img src=\"https://github.com/Diego875621/Data_Science/blob/main/Churn%20Project/4300_7_07.jpg?raw=true\" width=\"30%\"></p>\n",
        "<p align=center>Fonte: Freepik\n",
        "\n",
        "* CustomerID: Código de identificação do consumidor\n",
        "\n",
        "* Senior Citizen: Clientes com idade acima de 65 anos: 0 = Não, 1 = Sim.\n",
        "\n",
        "* Gender: Gênero, 0 = Feminino, 1 = Masculino\n",
        "\n",
        "* Partner: Indica se o cliente tem um parceiro: 0 = Não, 1 = Sim\n",
        "\n",
        "* Dependents: Indica se o cliente tem algum dependente, por exemplo crianças, pais, avós, etc: 0 = Não, 1 = Sim\n",
        "\n",
        "* tenure: Indica o total de meses que o cliente esteve com a empresa até o final do trimestre especificado\n",
        "\n",
        "* Phone Service: Indica se o cliente um serviço telefônico da empresa: 0 = Não, 1 = Sim\n",
        "\n",
        "* Multiple Lines: Indica se o cliente assinou múltiplas linhas telefônicas da empresa: 0 = Não, 1 = Sim\n",
        "\n",
        "* Online Security: Indica se o cliente assinou uma segurança online adicional ao serviço da empresa: 0 = Não, 1 = Sim\n",
        "\n",
        "* Online Backup: Indica se o cliente assinou um backup online adicional ao serviço da empresa: 0 = Não, 1 = Sim\n",
        "\n",
        "* Device Protection: Indica se o cliente assinou um plano de proteção adicional para seu equipamento de internet da empresa: 0 = Não, 1 = Sim\n",
        "\n",
        "* Tech Support: Indica se o cliente assinou um plano de suporte técnico adicional ao serviço da empresa: 0 = Não, 1 = Sim\n",
        "\n",
        "* Streaming TV: Indica se o cliente usa a sua internet para transmitir programas de televisão de terceiros: 0 = Não, 1 = Sim. A empresa não cobra taxas adicionais por este serviço\n",
        "\n",
        "* Streaming Movies: Indica se o cliente usa a sua internet para transmitir filmes de terceiros: 0 = Não, 1 = Sim. A empresa não cobra taxas adicionais por este serviço\n",
        "\n",
        "* Contract: Indica qual o tipo de contrado do cliente: Month-to-Mont (Mensal), One Year (Anual) e Two Year (2 anos)\n",
        "\n",
        "* Paperless Billing: Indica se o cliente escolheu sua fatura sem papel: 0 = Não, 1 = Sim\n",
        "\n",
        "* Payment Method: Indica como o cliente paga a sua conta: Bank Withdrawal (Saldo Bancário), Credit Card (Cartão de Crédito) e Mailed Check (Envio por Correiro)\n",
        "\n",
        "* Monthly Charge: Indica a taxa mensal do cliente pelo uso de todos os seus serviços contratados\n",
        "\n",
        "* Total Charges: Indica a taxa anual do cliente pelo uso de todos os seus serviços contratados, calculado no fim do trimestre especificado\n",
        "\n",
        "* Churn: Indica se o cliente deixou a empresa neste trimestre (1 = Sim) ou se permaneceu na empresa (0 = Não)"
      ],
      "metadata": {
        "id": "8Gq5cQy3__7O"
      }
    },
    {
      "cell_type": "markdown",
      "metadata": {
        "id": "0HVmpIxQWT4Y"
      },
      "source": [
        "# **Aquisição dos Dados**\n",
        "\n",
        "Nessa seção vamos inicialmente importar as bibliotecas necessária para a análise de dados e então fazer a exploração do dataset."
      ]
    },
    {
      "cell_type": "code",
      "source": [
        "# Instalação biblioteca fast_ml\n",
        "!pip install fast_ml --upgrade -q"
      ],
      "metadata": {
        "id": "WvClzVqlE6v5",
        "colab": {
          "base_uri": "https://localhost:8080/"
        },
        "outputId": "f0eca9d5-bf2e-4ed6-d019-cb9e3a6542e1"
      },
      "execution_count": null,
      "outputs": [
        {
          "output_type": "stream",
          "name": "stdout",
          "text": [
            "\u001b[?25l\r\u001b[K     |███████▉                        | 10 kB 3.7 MB/s eta 0:00:01\r\u001b[K     |███████████████▋                | 20 kB 4.9 MB/s eta 0:00:01\r\u001b[K     |███████████████████████▍        | 30 kB 5.5 MB/s eta 0:00:01\r\u001b[K     |███████████████████████████████▏| 40 kB 947 kB/s eta 0:00:01\r\u001b[K     |████████████████████████████████| 42 kB 379 kB/s \n",
            "\u001b[?25h"
          ]
        }
      ]
    },
    {
      "cell_type": "code",
      "metadata": {
        "id": "oQ4bNy7udtEE",
        "colab": {
          "base_uri": "https://localhost:8080/",
          "height": 698
        },
        "outputId": "240e0f3e-c8a2-4bf3-a9ce-f6dca98433cf"
      },
      "source": [
        "# importar os pacotes necessários\n",
        "import pandas as pd\n",
        "import matplotlib.pyplot as plt\n",
        "import seaborn as sns\n",
        "import numpy as np\n",
        "\n",
        "from sklearn.linear_model import LogisticRegression\n",
        "from sklearn.neighbors import KNeighborsClassifier\n",
        "from sklearn.cluster import KMeans\n",
        "from sklearn.naive_bayes import GaussianNB\n",
        "from sklearn.svm import SVC\n",
        "\n",
        "from sklearn.preprocessing import  RobustScaler, StandardScaler\n",
        "from sklearn.preprocessing import LabelEncoder\n",
        "\n",
        "from sklearn.pipeline import make_pipeline\n",
        "from sklearn.model_selection import train_test_split, GridSearchCV, cross_val_score, StratifiedKFold, cross_val_predict\n",
        "from sklearn.metrics import precision_score, classification_report, accuracy_score, roc_curve, roc_auc_score, ConfusionMatrixDisplay\n",
        "from sklearn.ensemble import RandomForestClassifier\n",
        "\n",
        "from fast_ml.model_development import train_valid_test_split\n",
        "from fast_ml.utilities import display_all\n",
        "from fast_ml import eda\n",
        "\n",
        "from xgboost import XGBClassifier\n",
        "from xgboost import plot_tree\n",
        "from xgboost import plot_importance\n",
        "\n",
        "from lightgbm import LGBMClassifier\n",
        "\n",
        "\n",
        "\n",
        "from imblearn.under_sampling import RandomUnderSampler\n",
        "\n",
        "# importar os dados\n",
        "DATA_PATH = \"https://raw.githubusercontent.com/carlosfab/dsnp2/master/datasets/WA_Fn-UseC_-Telco-Customer-Churn.csv\"\n",
        "df = pd.read_csv(DATA_PATH)\n",
        "\n",
        "# tamanho do dataset\n",
        "print('Tamanho do dataset:', df.shape, '\\n')\n",
        "\n",
        "# ver as 5 primeiras entradas\n",
        "df"
      ],
      "execution_count": null,
      "outputs": [
        {
          "output_type": "stream",
          "name": "stdout",
          "text": [
            "Tamanho do dataset: (7043, 21) \n",
            "\n"
          ]
        },
        {
          "output_type": "execute_result",
          "data": {
            "text/plain": [
              "      customerID  gender  SeniorCitizen Partner Dependents  tenure  \\\n",
              "0     7590-VHVEG  Female              0     Yes         No       1   \n",
              "1     5575-GNVDE    Male              0      No         No      34   \n",
              "2     3668-QPYBK    Male              0      No         No       2   \n",
              "3     7795-CFOCW    Male              0      No         No      45   \n",
              "4     9237-HQITU  Female              0      No         No       2   \n",
              "...          ...     ...            ...     ...        ...     ...   \n",
              "7038  6840-RESVB    Male              0     Yes        Yes      24   \n",
              "7039  2234-XADUH  Female              0     Yes        Yes      72   \n",
              "7040  4801-JZAZL  Female              0     Yes        Yes      11   \n",
              "7041  8361-LTMKD    Male              1     Yes         No       4   \n",
              "7042  3186-AJIEK    Male              0      No         No      66   \n",
              "\n",
              "     PhoneService     MultipleLines InternetService OnlineSecurity  ...  \\\n",
              "0              No  No phone service             DSL             No  ...   \n",
              "1             Yes                No             DSL            Yes  ...   \n",
              "2             Yes                No             DSL            Yes  ...   \n",
              "3              No  No phone service             DSL            Yes  ...   \n",
              "4             Yes                No     Fiber optic             No  ...   \n",
              "...           ...               ...             ...            ...  ...   \n",
              "7038          Yes               Yes             DSL            Yes  ...   \n",
              "7039          Yes               Yes     Fiber optic             No  ...   \n",
              "7040           No  No phone service             DSL            Yes  ...   \n",
              "7041          Yes               Yes     Fiber optic             No  ...   \n",
              "7042          Yes                No     Fiber optic            Yes  ...   \n",
              "\n",
              "     DeviceProtection TechSupport StreamingTV StreamingMovies        Contract  \\\n",
              "0                  No          No          No              No  Month-to-month   \n",
              "1                 Yes          No          No              No        One year   \n",
              "2                  No          No          No              No  Month-to-month   \n",
              "3                 Yes         Yes          No              No        One year   \n",
              "4                  No          No          No              No  Month-to-month   \n",
              "...               ...         ...         ...             ...             ...   \n",
              "7038              Yes         Yes         Yes             Yes        One year   \n",
              "7039              Yes          No         Yes             Yes        One year   \n",
              "7040               No          No          No              No  Month-to-month   \n",
              "7041               No          No          No              No  Month-to-month   \n",
              "7042              Yes         Yes         Yes             Yes        Two year   \n",
              "\n",
              "     PaperlessBilling              PaymentMethod MonthlyCharges  TotalCharges  \\\n",
              "0                 Yes           Electronic check          29.85         29.85   \n",
              "1                  No               Mailed check          56.95        1889.5   \n",
              "2                 Yes               Mailed check          53.85        108.15   \n",
              "3                  No  Bank transfer (automatic)          42.30       1840.75   \n",
              "4                 Yes           Electronic check          70.70        151.65   \n",
              "...               ...                        ...            ...           ...   \n",
              "7038              Yes               Mailed check          84.80        1990.5   \n",
              "7039              Yes    Credit card (automatic)         103.20        7362.9   \n",
              "7040              Yes           Electronic check          29.60        346.45   \n",
              "7041              Yes               Mailed check          74.40         306.6   \n",
              "7042              Yes  Bank transfer (automatic)         105.65        6844.5   \n",
              "\n",
              "     Churn  \n",
              "0       No  \n",
              "1       No  \n",
              "2      Yes  \n",
              "3       No  \n",
              "4      Yes  \n",
              "...    ...  \n",
              "7038    No  \n",
              "7039    No  \n",
              "7040    No  \n",
              "7041   Yes  \n",
              "7042    No  \n",
              "\n",
              "[7043 rows x 21 columns]"
            ],
            "text/html": [
              "\n",
              "  <div id=\"df-0ae057bd-1d0c-41d2-b4b5-1e6027e03250\">\n",
              "    <div class=\"colab-df-container\">\n",
              "      <div>\n",
              "<style scoped>\n",
              "    .dataframe tbody tr th:only-of-type {\n",
              "        vertical-align: middle;\n",
              "    }\n",
              "\n",
              "    .dataframe tbody tr th {\n",
              "        vertical-align: top;\n",
              "    }\n",
              "\n",
              "    .dataframe thead th {\n",
              "        text-align: right;\n",
              "    }\n",
              "</style>\n",
              "<table border=\"1\" class=\"dataframe\">\n",
              "  <thead>\n",
              "    <tr style=\"text-align: right;\">\n",
              "      <th></th>\n",
              "      <th>customerID</th>\n",
              "      <th>gender</th>\n",
              "      <th>SeniorCitizen</th>\n",
              "      <th>Partner</th>\n",
              "      <th>Dependents</th>\n",
              "      <th>tenure</th>\n",
              "      <th>PhoneService</th>\n",
              "      <th>MultipleLines</th>\n",
              "      <th>InternetService</th>\n",
              "      <th>OnlineSecurity</th>\n",
              "      <th>...</th>\n",
              "      <th>DeviceProtection</th>\n",
              "      <th>TechSupport</th>\n",
              "      <th>StreamingTV</th>\n",
              "      <th>StreamingMovies</th>\n",
              "      <th>Contract</th>\n",
              "      <th>PaperlessBilling</th>\n",
              "      <th>PaymentMethod</th>\n",
              "      <th>MonthlyCharges</th>\n",
              "      <th>TotalCharges</th>\n",
              "      <th>Churn</th>\n",
              "    </tr>\n",
              "  </thead>\n",
              "  <tbody>\n",
              "    <tr>\n",
              "      <th>0</th>\n",
              "      <td>7590-VHVEG</td>\n",
              "      <td>Female</td>\n",
              "      <td>0</td>\n",
              "      <td>Yes</td>\n",
              "      <td>No</td>\n",
              "      <td>1</td>\n",
              "      <td>No</td>\n",
              "      <td>No phone service</td>\n",
              "      <td>DSL</td>\n",
              "      <td>No</td>\n",
              "      <td>...</td>\n",
              "      <td>No</td>\n",
              "      <td>No</td>\n",
              "      <td>No</td>\n",
              "      <td>No</td>\n",
              "      <td>Month-to-month</td>\n",
              "      <td>Yes</td>\n",
              "      <td>Electronic check</td>\n",
              "      <td>29.85</td>\n",
              "      <td>29.85</td>\n",
              "      <td>No</td>\n",
              "    </tr>\n",
              "    <tr>\n",
              "      <th>1</th>\n",
              "      <td>5575-GNVDE</td>\n",
              "      <td>Male</td>\n",
              "      <td>0</td>\n",
              "      <td>No</td>\n",
              "      <td>No</td>\n",
              "      <td>34</td>\n",
              "      <td>Yes</td>\n",
              "      <td>No</td>\n",
              "      <td>DSL</td>\n",
              "      <td>Yes</td>\n",
              "      <td>...</td>\n",
              "      <td>Yes</td>\n",
              "      <td>No</td>\n",
              "      <td>No</td>\n",
              "      <td>No</td>\n",
              "      <td>One year</td>\n",
              "      <td>No</td>\n",
              "      <td>Mailed check</td>\n",
              "      <td>56.95</td>\n",
              "      <td>1889.5</td>\n",
              "      <td>No</td>\n",
              "    </tr>\n",
              "    <tr>\n",
              "      <th>2</th>\n",
              "      <td>3668-QPYBK</td>\n",
              "      <td>Male</td>\n",
              "      <td>0</td>\n",
              "      <td>No</td>\n",
              "      <td>No</td>\n",
              "      <td>2</td>\n",
              "      <td>Yes</td>\n",
              "      <td>No</td>\n",
              "      <td>DSL</td>\n",
              "      <td>Yes</td>\n",
              "      <td>...</td>\n",
              "      <td>No</td>\n",
              "      <td>No</td>\n",
              "      <td>No</td>\n",
              "      <td>No</td>\n",
              "      <td>Month-to-month</td>\n",
              "      <td>Yes</td>\n",
              "      <td>Mailed check</td>\n",
              "      <td>53.85</td>\n",
              "      <td>108.15</td>\n",
              "      <td>Yes</td>\n",
              "    </tr>\n",
              "    <tr>\n",
              "      <th>3</th>\n",
              "      <td>7795-CFOCW</td>\n",
              "      <td>Male</td>\n",
              "      <td>0</td>\n",
              "      <td>No</td>\n",
              "      <td>No</td>\n",
              "      <td>45</td>\n",
              "      <td>No</td>\n",
              "      <td>No phone service</td>\n",
              "      <td>DSL</td>\n",
              "      <td>Yes</td>\n",
              "      <td>...</td>\n",
              "      <td>Yes</td>\n",
              "      <td>Yes</td>\n",
              "      <td>No</td>\n",
              "      <td>No</td>\n",
              "      <td>One year</td>\n",
              "      <td>No</td>\n",
              "      <td>Bank transfer (automatic)</td>\n",
              "      <td>42.30</td>\n",
              "      <td>1840.75</td>\n",
              "      <td>No</td>\n",
              "    </tr>\n",
              "    <tr>\n",
              "      <th>4</th>\n",
              "      <td>9237-HQITU</td>\n",
              "      <td>Female</td>\n",
              "      <td>0</td>\n",
              "      <td>No</td>\n",
              "      <td>No</td>\n",
              "      <td>2</td>\n",
              "      <td>Yes</td>\n",
              "      <td>No</td>\n",
              "      <td>Fiber optic</td>\n",
              "      <td>No</td>\n",
              "      <td>...</td>\n",
              "      <td>No</td>\n",
              "      <td>No</td>\n",
              "      <td>No</td>\n",
              "      <td>No</td>\n",
              "      <td>Month-to-month</td>\n",
              "      <td>Yes</td>\n",
              "      <td>Electronic check</td>\n",
              "      <td>70.70</td>\n",
              "      <td>151.65</td>\n",
              "      <td>Yes</td>\n",
              "    </tr>\n",
              "    <tr>\n",
              "      <th>...</th>\n",
              "      <td>...</td>\n",
              "      <td>...</td>\n",
              "      <td>...</td>\n",
              "      <td>...</td>\n",
              "      <td>...</td>\n",
              "      <td>...</td>\n",
              "      <td>...</td>\n",
              "      <td>...</td>\n",
              "      <td>...</td>\n",
              "      <td>...</td>\n",
              "      <td>...</td>\n",
              "      <td>...</td>\n",
              "      <td>...</td>\n",
              "      <td>...</td>\n",
              "      <td>...</td>\n",
              "      <td>...</td>\n",
              "      <td>...</td>\n",
              "      <td>...</td>\n",
              "      <td>...</td>\n",
              "      <td>...</td>\n",
              "      <td>...</td>\n",
              "    </tr>\n",
              "    <tr>\n",
              "      <th>7038</th>\n",
              "      <td>6840-RESVB</td>\n",
              "      <td>Male</td>\n",
              "      <td>0</td>\n",
              "      <td>Yes</td>\n",
              "      <td>Yes</td>\n",
              "      <td>24</td>\n",
              "      <td>Yes</td>\n",
              "      <td>Yes</td>\n",
              "      <td>DSL</td>\n",
              "      <td>Yes</td>\n",
              "      <td>...</td>\n",
              "      <td>Yes</td>\n",
              "      <td>Yes</td>\n",
              "      <td>Yes</td>\n",
              "      <td>Yes</td>\n",
              "      <td>One year</td>\n",
              "      <td>Yes</td>\n",
              "      <td>Mailed check</td>\n",
              "      <td>84.80</td>\n",
              "      <td>1990.5</td>\n",
              "      <td>No</td>\n",
              "    </tr>\n",
              "    <tr>\n",
              "      <th>7039</th>\n",
              "      <td>2234-XADUH</td>\n",
              "      <td>Female</td>\n",
              "      <td>0</td>\n",
              "      <td>Yes</td>\n",
              "      <td>Yes</td>\n",
              "      <td>72</td>\n",
              "      <td>Yes</td>\n",
              "      <td>Yes</td>\n",
              "      <td>Fiber optic</td>\n",
              "      <td>No</td>\n",
              "      <td>...</td>\n",
              "      <td>Yes</td>\n",
              "      <td>No</td>\n",
              "      <td>Yes</td>\n",
              "      <td>Yes</td>\n",
              "      <td>One year</td>\n",
              "      <td>Yes</td>\n",
              "      <td>Credit card (automatic)</td>\n",
              "      <td>103.20</td>\n",
              "      <td>7362.9</td>\n",
              "      <td>No</td>\n",
              "    </tr>\n",
              "    <tr>\n",
              "      <th>7040</th>\n",
              "      <td>4801-JZAZL</td>\n",
              "      <td>Female</td>\n",
              "      <td>0</td>\n",
              "      <td>Yes</td>\n",
              "      <td>Yes</td>\n",
              "      <td>11</td>\n",
              "      <td>No</td>\n",
              "      <td>No phone service</td>\n",
              "      <td>DSL</td>\n",
              "      <td>Yes</td>\n",
              "      <td>...</td>\n",
              "      <td>No</td>\n",
              "      <td>No</td>\n",
              "      <td>No</td>\n",
              "      <td>No</td>\n",
              "      <td>Month-to-month</td>\n",
              "      <td>Yes</td>\n",
              "      <td>Electronic check</td>\n",
              "      <td>29.60</td>\n",
              "      <td>346.45</td>\n",
              "      <td>No</td>\n",
              "    </tr>\n",
              "    <tr>\n",
              "      <th>7041</th>\n",
              "      <td>8361-LTMKD</td>\n",
              "      <td>Male</td>\n",
              "      <td>1</td>\n",
              "      <td>Yes</td>\n",
              "      <td>No</td>\n",
              "      <td>4</td>\n",
              "      <td>Yes</td>\n",
              "      <td>Yes</td>\n",
              "      <td>Fiber optic</td>\n",
              "      <td>No</td>\n",
              "      <td>...</td>\n",
              "      <td>No</td>\n",
              "      <td>No</td>\n",
              "      <td>No</td>\n",
              "      <td>No</td>\n",
              "      <td>Month-to-month</td>\n",
              "      <td>Yes</td>\n",
              "      <td>Mailed check</td>\n",
              "      <td>74.40</td>\n",
              "      <td>306.6</td>\n",
              "      <td>Yes</td>\n",
              "    </tr>\n",
              "    <tr>\n",
              "      <th>7042</th>\n",
              "      <td>3186-AJIEK</td>\n",
              "      <td>Male</td>\n",
              "      <td>0</td>\n",
              "      <td>No</td>\n",
              "      <td>No</td>\n",
              "      <td>66</td>\n",
              "      <td>Yes</td>\n",
              "      <td>No</td>\n",
              "      <td>Fiber optic</td>\n",
              "      <td>Yes</td>\n",
              "      <td>...</td>\n",
              "      <td>Yes</td>\n",
              "      <td>Yes</td>\n",
              "      <td>Yes</td>\n",
              "      <td>Yes</td>\n",
              "      <td>Two year</td>\n",
              "      <td>Yes</td>\n",
              "      <td>Bank transfer (automatic)</td>\n",
              "      <td>105.65</td>\n",
              "      <td>6844.5</td>\n",
              "      <td>No</td>\n",
              "    </tr>\n",
              "  </tbody>\n",
              "</table>\n",
              "<p>7043 rows × 21 columns</p>\n",
              "</div>\n",
              "      <button class=\"colab-df-convert\" onclick=\"convertToInteractive('df-0ae057bd-1d0c-41d2-b4b5-1e6027e03250')\"\n",
              "              title=\"Convert this dataframe to an interactive table.\"\n",
              "              style=\"display:none;\">\n",
              "        \n",
              "  <svg xmlns=\"http://www.w3.org/2000/svg\" height=\"24px\"viewBox=\"0 0 24 24\"\n",
              "       width=\"24px\">\n",
              "    <path d=\"M0 0h24v24H0V0z\" fill=\"none\"/>\n",
              "    <path d=\"M18.56 5.44l.94 2.06.94-2.06 2.06-.94-2.06-.94-.94-2.06-.94 2.06-2.06.94zm-11 1L8.5 8.5l.94-2.06 2.06-.94-2.06-.94L8.5 2.5l-.94 2.06-2.06.94zm10 10l.94 2.06.94-2.06 2.06-.94-2.06-.94-.94-2.06-.94 2.06-2.06.94z\"/><path d=\"M17.41 7.96l-1.37-1.37c-.4-.4-.92-.59-1.43-.59-.52 0-1.04.2-1.43.59L10.3 9.45l-7.72 7.72c-.78.78-.78 2.05 0 2.83L4 21.41c.39.39.9.59 1.41.59.51 0 1.02-.2 1.41-.59l7.78-7.78 2.81-2.81c.8-.78.8-2.07 0-2.86zM5.41 20L4 18.59l7.72-7.72 1.47 1.35L5.41 20z\"/>\n",
              "  </svg>\n",
              "      </button>\n",
              "      \n",
              "  <style>\n",
              "    .colab-df-container {\n",
              "      display:flex;\n",
              "      flex-wrap:wrap;\n",
              "      gap: 12px;\n",
              "    }\n",
              "\n",
              "    .colab-df-convert {\n",
              "      background-color: #E8F0FE;\n",
              "      border: none;\n",
              "      border-radius: 50%;\n",
              "      cursor: pointer;\n",
              "      display: none;\n",
              "      fill: #1967D2;\n",
              "      height: 32px;\n",
              "      padding: 0 0 0 0;\n",
              "      width: 32px;\n",
              "    }\n",
              "\n",
              "    .colab-df-convert:hover {\n",
              "      background-color: #E2EBFA;\n",
              "      box-shadow: 0px 1px 2px rgba(60, 64, 67, 0.3), 0px 1px 3px 1px rgba(60, 64, 67, 0.15);\n",
              "      fill: #174EA6;\n",
              "    }\n",
              "\n",
              "    [theme=dark] .colab-df-convert {\n",
              "      background-color: #3B4455;\n",
              "      fill: #D2E3FC;\n",
              "    }\n",
              "\n",
              "    [theme=dark] .colab-df-convert:hover {\n",
              "      background-color: #434B5C;\n",
              "      box-shadow: 0px 1px 3px 1px rgba(0, 0, 0, 0.15);\n",
              "      filter: drop-shadow(0px 1px 2px rgba(0, 0, 0, 0.3));\n",
              "      fill: #FFFFFF;\n",
              "    }\n",
              "  </style>\n",
              "\n",
              "      <script>\n",
              "        const buttonEl =\n",
              "          document.querySelector('#df-0ae057bd-1d0c-41d2-b4b5-1e6027e03250 button.colab-df-convert');\n",
              "        buttonEl.style.display =\n",
              "          google.colab.kernel.accessAllowed ? 'block' : 'none';\n",
              "\n",
              "        async function convertToInteractive(key) {\n",
              "          const element = document.querySelector('#df-0ae057bd-1d0c-41d2-b4b5-1e6027e03250');\n",
              "          const dataTable =\n",
              "            await google.colab.kernel.invokeFunction('convertToInteractive',\n",
              "                                                     [key], {});\n",
              "          if (!dataTable) return;\n",
              "\n",
              "          const docLinkHtml = 'Like what you see? Visit the ' +\n",
              "            '<a target=\"_blank\" href=https://colab.research.google.com/notebooks/data_table.ipynb>data table notebook</a>'\n",
              "            + ' to learn more about interactive tables.';\n",
              "          element.innerHTML = '';\n",
              "          dataTable['output_type'] = 'display_data';\n",
              "          await google.colab.output.renderOutput(dataTable, element);\n",
              "          const docLink = document.createElement('div');\n",
              "          docLink.innerHTML = docLinkHtml;\n",
              "          element.appendChild(docLink);\n",
              "        }\n",
              "      </script>\n",
              "    </div>\n",
              "  </div>\n",
              "  "
            ]
          },
          "metadata": {},
          "execution_count": 2
        }
      ]
    },
    {
      "cell_type": "code",
      "source": [
        "# Análise exploratória\n",
        "df_summary = eda.df_info(df)\n",
        "display_all(df_summary)"
      ],
      "metadata": {
        "colab": {
          "base_uri": "https://localhost:8080/",
          "height": 708
        },
        "id": "icTHS2JcuOZO",
        "outputId": "6db56f2b-5f78-4e88-b647-8e9c2ab98d4e"
      },
      "execution_count": null,
      "outputs": [
        {
          "output_type": "display_data",
          "data": {
            "text/plain": [
              "                 data_type data_type_grp num_unique_values  \\\n",
              "customerID          object   Categorical              7043   \n",
              "gender              object   Categorical                 2   \n",
              "SeniorCitizen        int64     Numerical                 2   \n",
              "Partner             object   Categorical                 2   \n",
              "Dependents          object   Categorical                 2   \n",
              "tenure               int64     Numerical                73   \n",
              "PhoneService        object   Categorical                 2   \n",
              "MultipleLines       object   Categorical                 3   \n",
              "InternetService     object   Categorical                 3   \n",
              "OnlineSecurity      object   Categorical                 3   \n",
              "OnlineBackup        object   Categorical                 3   \n",
              "DeviceProtection    object   Categorical                 3   \n",
              "TechSupport         object   Categorical                 3   \n",
              "StreamingTV         object   Categorical                 3   \n",
              "StreamingMovies     object   Categorical                 3   \n",
              "Contract            object   Categorical                 3   \n",
              "PaperlessBilling    object   Categorical                 2   \n",
              "PaymentMethod       object   Categorical                 4   \n",
              "MonthlyCharges     float64     Numerical              1585   \n",
              "TotalCharges        object   Categorical              6531   \n",
              "Churn               object   Categorical                 2   \n",
              "\n",
              "                                               sample_unique_values  \\\n",
              "customerID        [7590-VHVEG, 5575-GNVDE, 3668-QPYBK, 7795-CFOC...   \n",
              "gender                                               [Female, Male]   \n",
              "SeniorCitizen                                                [0, 1]   \n",
              "Partner                                                   [Yes, No]   \n",
              "Dependents                                                [No, Yes]   \n",
              "tenure                        [1, 34, 2, 45, 8, 22, 10, 28, 62, 13]   \n",
              "PhoneService                                              [No, Yes]   \n",
              "MultipleLines                           [No phone service, No, Yes]   \n",
              "InternetService                              [DSL, Fiber optic, No]   \n",
              "OnlineSecurity                       [No, Yes, No internet service]   \n",
              "OnlineBackup                         [Yes, No, No internet service]   \n",
              "DeviceProtection                     [No, Yes, No internet service]   \n",
              "TechSupport                          [No, Yes, No internet service]   \n",
              "StreamingTV                          [No, Yes, No internet service]   \n",
              "StreamingMovies                      [No, Yes, No internet service]   \n",
              "Contract                       [Month-to-month, One year, Two year]   \n",
              "PaperlessBilling                                          [Yes, No]   \n",
              "PaymentMethod     [Electronic check, Mailed check, Bank transfer...   \n",
              "MonthlyCharges    [29.85, 56.95, 53.85, 42.3, 70.7, 99.65, 89.1,...   \n",
              "TotalCharges      [29.85, 1889.5, 108.15, 1840.75, 151.65, 820.5...   \n",
              "Churn                                                     [No, Yes]   \n",
              "\n",
              "                 num_missing perc_missing  \n",
              "customerID                 0          0.0  \n",
              "gender                     0          0.0  \n",
              "SeniorCitizen              0          0.0  \n",
              "Partner                    0          0.0  \n",
              "Dependents                 0          0.0  \n",
              "tenure                     0          0.0  \n",
              "PhoneService               0          0.0  \n",
              "MultipleLines              0          0.0  \n",
              "InternetService            0          0.0  \n",
              "OnlineSecurity             0          0.0  \n",
              "OnlineBackup               0          0.0  \n",
              "DeviceProtection           0          0.0  \n",
              "TechSupport                0          0.0  \n",
              "StreamingTV                0          0.0  \n",
              "StreamingMovies            0          0.0  \n",
              "Contract                   0          0.0  \n",
              "PaperlessBilling           0          0.0  \n",
              "PaymentMethod              0          0.0  \n",
              "MonthlyCharges             0          0.0  \n",
              "TotalCharges               0          0.0  \n",
              "Churn                      0          0.0  "
            ],
            "text/html": [
              "\n",
              "  <div id=\"df-07e886c9-ca21-41d6-b825-7f35413db69b\">\n",
              "    <div class=\"colab-df-container\">\n",
              "      <div>\n",
              "<style scoped>\n",
              "    .dataframe tbody tr th:only-of-type {\n",
              "        vertical-align: middle;\n",
              "    }\n",
              "\n",
              "    .dataframe tbody tr th {\n",
              "        vertical-align: top;\n",
              "    }\n",
              "\n",
              "    .dataframe thead th {\n",
              "        text-align: right;\n",
              "    }\n",
              "</style>\n",
              "<table border=\"1\" class=\"dataframe\">\n",
              "  <thead>\n",
              "    <tr style=\"text-align: right;\">\n",
              "      <th></th>\n",
              "      <th>data_type</th>\n",
              "      <th>data_type_grp</th>\n",
              "      <th>num_unique_values</th>\n",
              "      <th>sample_unique_values</th>\n",
              "      <th>num_missing</th>\n",
              "      <th>perc_missing</th>\n",
              "    </tr>\n",
              "  </thead>\n",
              "  <tbody>\n",
              "    <tr>\n",
              "      <th>customerID</th>\n",
              "      <td>object</td>\n",
              "      <td>Categorical</td>\n",
              "      <td>7043</td>\n",
              "      <td>[7590-VHVEG, 5575-GNVDE, 3668-QPYBK, 7795-CFOC...</td>\n",
              "      <td>0</td>\n",
              "      <td>0.0</td>\n",
              "    </tr>\n",
              "    <tr>\n",
              "      <th>gender</th>\n",
              "      <td>object</td>\n",
              "      <td>Categorical</td>\n",
              "      <td>2</td>\n",
              "      <td>[Female, Male]</td>\n",
              "      <td>0</td>\n",
              "      <td>0.0</td>\n",
              "    </tr>\n",
              "    <tr>\n",
              "      <th>SeniorCitizen</th>\n",
              "      <td>int64</td>\n",
              "      <td>Numerical</td>\n",
              "      <td>2</td>\n",
              "      <td>[0, 1]</td>\n",
              "      <td>0</td>\n",
              "      <td>0.0</td>\n",
              "    </tr>\n",
              "    <tr>\n",
              "      <th>Partner</th>\n",
              "      <td>object</td>\n",
              "      <td>Categorical</td>\n",
              "      <td>2</td>\n",
              "      <td>[Yes, No]</td>\n",
              "      <td>0</td>\n",
              "      <td>0.0</td>\n",
              "    </tr>\n",
              "    <tr>\n",
              "      <th>Dependents</th>\n",
              "      <td>object</td>\n",
              "      <td>Categorical</td>\n",
              "      <td>2</td>\n",
              "      <td>[No, Yes]</td>\n",
              "      <td>0</td>\n",
              "      <td>0.0</td>\n",
              "    </tr>\n",
              "    <tr>\n",
              "      <th>tenure</th>\n",
              "      <td>int64</td>\n",
              "      <td>Numerical</td>\n",
              "      <td>73</td>\n",
              "      <td>[1, 34, 2, 45, 8, 22, 10, 28, 62, 13]</td>\n",
              "      <td>0</td>\n",
              "      <td>0.0</td>\n",
              "    </tr>\n",
              "    <tr>\n",
              "      <th>PhoneService</th>\n",
              "      <td>object</td>\n",
              "      <td>Categorical</td>\n",
              "      <td>2</td>\n",
              "      <td>[No, Yes]</td>\n",
              "      <td>0</td>\n",
              "      <td>0.0</td>\n",
              "    </tr>\n",
              "    <tr>\n",
              "      <th>MultipleLines</th>\n",
              "      <td>object</td>\n",
              "      <td>Categorical</td>\n",
              "      <td>3</td>\n",
              "      <td>[No phone service, No, Yes]</td>\n",
              "      <td>0</td>\n",
              "      <td>0.0</td>\n",
              "    </tr>\n",
              "    <tr>\n",
              "      <th>InternetService</th>\n",
              "      <td>object</td>\n",
              "      <td>Categorical</td>\n",
              "      <td>3</td>\n",
              "      <td>[DSL, Fiber optic, No]</td>\n",
              "      <td>0</td>\n",
              "      <td>0.0</td>\n",
              "    </tr>\n",
              "    <tr>\n",
              "      <th>OnlineSecurity</th>\n",
              "      <td>object</td>\n",
              "      <td>Categorical</td>\n",
              "      <td>3</td>\n",
              "      <td>[No, Yes, No internet service]</td>\n",
              "      <td>0</td>\n",
              "      <td>0.0</td>\n",
              "    </tr>\n",
              "    <tr>\n",
              "      <th>OnlineBackup</th>\n",
              "      <td>object</td>\n",
              "      <td>Categorical</td>\n",
              "      <td>3</td>\n",
              "      <td>[Yes, No, No internet service]</td>\n",
              "      <td>0</td>\n",
              "      <td>0.0</td>\n",
              "    </tr>\n",
              "    <tr>\n",
              "      <th>DeviceProtection</th>\n",
              "      <td>object</td>\n",
              "      <td>Categorical</td>\n",
              "      <td>3</td>\n",
              "      <td>[No, Yes, No internet service]</td>\n",
              "      <td>0</td>\n",
              "      <td>0.0</td>\n",
              "    </tr>\n",
              "    <tr>\n",
              "      <th>TechSupport</th>\n",
              "      <td>object</td>\n",
              "      <td>Categorical</td>\n",
              "      <td>3</td>\n",
              "      <td>[No, Yes, No internet service]</td>\n",
              "      <td>0</td>\n",
              "      <td>0.0</td>\n",
              "    </tr>\n",
              "    <tr>\n",
              "      <th>StreamingTV</th>\n",
              "      <td>object</td>\n",
              "      <td>Categorical</td>\n",
              "      <td>3</td>\n",
              "      <td>[No, Yes, No internet service]</td>\n",
              "      <td>0</td>\n",
              "      <td>0.0</td>\n",
              "    </tr>\n",
              "    <tr>\n",
              "      <th>StreamingMovies</th>\n",
              "      <td>object</td>\n",
              "      <td>Categorical</td>\n",
              "      <td>3</td>\n",
              "      <td>[No, Yes, No internet service]</td>\n",
              "      <td>0</td>\n",
              "      <td>0.0</td>\n",
              "    </tr>\n",
              "    <tr>\n",
              "      <th>Contract</th>\n",
              "      <td>object</td>\n",
              "      <td>Categorical</td>\n",
              "      <td>3</td>\n",
              "      <td>[Month-to-month, One year, Two year]</td>\n",
              "      <td>0</td>\n",
              "      <td>0.0</td>\n",
              "    </tr>\n",
              "    <tr>\n",
              "      <th>PaperlessBilling</th>\n",
              "      <td>object</td>\n",
              "      <td>Categorical</td>\n",
              "      <td>2</td>\n",
              "      <td>[Yes, No]</td>\n",
              "      <td>0</td>\n",
              "      <td>0.0</td>\n",
              "    </tr>\n",
              "    <tr>\n",
              "      <th>PaymentMethod</th>\n",
              "      <td>object</td>\n",
              "      <td>Categorical</td>\n",
              "      <td>4</td>\n",
              "      <td>[Electronic check, Mailed check, Bank transfer...</td>\n",
              "      <td>0</td>\n",
              "      <td>0.0</td>\n",
              "    </tr>\n",
              "    <tr>\n",
              "      <th>MonthlyCharges</th>\n",
              "      <td>float64</td>\n",
              "      <td>Numerical</td>\n",
              "      <td>1585</td>\n",
              "      <td>[29.85, 56.95, 53.85, 42.3, 70.7, 99.65, 89.1,...</td>\n",
              "      <td>0</td>\n",
              "      <td>0.0</td>\n",
              "    </tr>\n",
              "    <tr>\n",
              "      <th>TotalCharges</th>\n",
              "      <td>object</td>\n",
              "      <td>Categorical</td>\n",
              "      <td>6531</td>\n",
              "      <td>[29.85, 1889.5, 108.15, 1840.75, 151.65, 820.5...</td>\n",
              "      <td>0</td>\n",
              "      <td>0.0</td>\n",
              "    </tr>\n",
              "    <tr>\n",
              "      <th>Churn</th>\n",
              "      <td>object</td>\n",
              "      <td>Categorical</td>\n",
              "      <td>2</td>\n",
              "      <td>[No, Yes]</td>\n",
              "      <td>0</td>\n",
              "      <td>0.0</td>\n",
              "    </tr>\n",
              "  </tbody>\n",
              "</table>\n",
              "</div>\n",
              "      <button class=\"colab-df-convert\" onclick=\"convertToInteractive('df-07e886c9-ca21-41d6-b825-7f35413db69b')\"\n",
              "              title=\"Convert this dataframe to an interactive table.\"\n",
              "              style=\"display:none;\">\n",
              "        \n",
              "  <svg xmlns=\"http://www.w3.org/2000/svg\" height=\"24px\"viewBox=\"0 0 24 24\"\n",
              "       width=\"24px\">\n",
              "    <path d=\"M0 0h24v24H0V0z\" fill=\"none\"/>\n",
              "    <path d=\"M18.56 5.44l.94 2.06.94-2.06 2.06-.94-2.06-.94-.94-2.06-.94 2.06-2.06.94zm-11 1L8.5 8.5l.94-2.06 2.06-.94-2.06-.94L8.5 2.5l-.94 2.06-2.06.94zm10 10l.94 2.06.94-2.06 2.06-.94-2.06-.94-.94-2.06-.94 2.06-2.06.94z\"/><path d=\"M17.41 7.96l-1.37-1.37c-.4-.4-.92-.59-1.43-.59-.52 0-1.04.2-1.43.59L10.3 9.45l-7.72 7.72c-.78.78-.78 2.05 0 2.83L4 21.41c.39.39.9.59 1.41.59.51 0 1.02-.2 1.41-.59l7.78-7.78 2.81-2.81c.8-.78.8-2.07 0-2.86zM5.41 20L4 18.59l7.72-7.72 1.47 1.35L5.41 20z\"/>\n",
              "  </svg>\n",
              "      </button>\n",
              "      \n",
              "  <style>\n",
              "    .colab-df-container {\n",
              "      display:flex;\n",
              "      flex-wrap:wrap;\n",
              "      gap: 12px;\n",
              "    }\n",
              "\n",
              "    .colab-df-convert {\n",
              "      background-color: #E8F0FE;\n",
              "      border: none;\n",
              "      border-radius: 50%;\n",
              "      cursor: pointer;\n",
              "      display: none;\n",
              "      fill: #1967D2;\n",
              "      height: 32px;\n",
              "      padding: 0 0 0 0;\n",
              "      width: 32px;\n",
              "    }\n",
              "\n",
              "    .colab-df-convert:hover {\n",
              "      background-color: #E2EBFA;\n",
              "      box-shadow: 0px 1px 2px rgba(60, 64, 67, 0.3), 0px 1px 3px 1px rgba(60, 64, 67, 0.15);\n",
              "      fill: #174EA6;\n",
              "    }\n",
              "\n",
              "    [theme=dark] .colab-df-convert {\n",
              "      background-color: #3B4455;\n",
              "      fill: #D2E3FC;\n",
              "    }\n",
              "\n",
              "    [theme=dark] .colab-df-convert:hover {\n",
              "      background-color: #434B5C;\n",
              "      box-shadow: 0px 1px 3px 1px rgba(0, 0, 0, 0.15);\n",
              "      filter: drop-shadow(0px 1px 2px rgba(0, 0, 0, 0.3));\n",
              "      fill: #FFFFFF;\n",
              "    }\n",
              "  </style>\n",
              "\n",
              "      <script>\n",
              "        const buttonEl =\n",
              "          document.querySelector('#df-07e886c9-ca21-41d6-b825-7f35413db69b button.colab-df-convert');\n",
              "        buttonEl.style.display =\n",
              "          google.colab.kernel.accessAllowed ? 'block' : 'none';\n",
              "\n",
              "        async function convertToInteractive(key) {\n",
              "          const element = document.querySelector('#df-07e886c9-ca21-41d6-b825-7f35413db69b');\n",
              "          const dataTable =\n",
              "            await google.colab.kernel.invokeFunction('convertToInteractive',\n",
              "                                                     [key], {});\n",
              "          if (!dataTable) return;\n",
              "\n",
              "          const docLinkHtml = 'Like what you see? Visit the ' +\n",
              "            '<a target=\"_blank\" href=https://colab.research.google.com/notebooks/data_table.ipynb>data table notebook</a>'\n",
              "            + ' to learn more about interactive tables.';\n",
              "          element.innerHTML = '';\n",
              "          dataTable['output_type'] = 'display_data';\n",
              "          await google.colab.output.renderOutput(dataTable, element);\n",
              "          const docLink = document.createElement('div');\n",
              "          docLink.innerHTML = docLinkHtml;\n",
              "          element.appendChild(docLink);\n",
              "        }\n",
              "      </script>\n",
              "    </div>\n",
              "  </div>\n",
              "  "
            ]
          },
          "metadata": {}
        }
      ]
    },
    {
      "cell_type": "markdown",
      "source": [
        "* Podemos perceber que o conjunto possui 7043 entradas e 20 colunas.  \n",
        "\n",
        "* Não temos valores ausentes, porém como veremos, essa informação pode não ser totalmente verdadeira. \n",
        "\n",
        "* A feature `customerID` representa somente a identificação do usuário e não tem muita importância nessa análise.\n",
        "\n",
        "* A variável alvo (target) é `Churn`.\n",
        "\n",
        "* A maioria das variáveis estão em formas categóricas e com dtype \"object\", então teremos que transformá-las para numéricas pois do contrário alguns algoritmos podem não funcionar de forma eficaz.\n",
        "\n",
        "* As features `Contract`, `PaymentMethod`, `InternetService` apresentam mais do que 2 categorias e cada categoria será transformada em um colunas únicas e específicas. \n",
        "\n",
        "* As features `MultipleLines`, `OnlineSecurity`, `DeviceProtection`, `TechSupport`, `StreamingTV` e `StreamingMovies` se comportam da mesma maneira, porém serão tratadas de maneira diferente a fim de facilitar a visualização. Pois estas features possuem valores muito semelhantes, por exemplo as categorias \"No internet service\" ou \"No phone service\" serão todas consideradas como \"No\", ou seja, igual a 0."
      ],
      "metadata": {
        "id": "iLCLDegm76uU"
      }
    },
    {
      "cell_type": "markdown",
      "source": [
        "# **Feature Enginnering**\n",
        "\n",
        "<p align=center>\n",
        "<img src=\"https://github.com/Diego875621/Data_Science/blob/main/Churn%20Project/OIUFT30.jpg?raw=true\" width=\"30%\"></p>\n",
        "<p align=center>Fonte: Freepik\n",
        "\n",
        "Como vimos acima, será necessário fazer mudanças no dataset para que seja possível obter bons resultados com os algoritmos de Aprendizagem de Máquina. Primeiramente será feito uma cópia como do dataset original como dataframe: `df1` para que seja otimizado.\n",
        "\n",
        "A contagem de valores de `TotalCharges` indica valores em branco `' '` por essa motivo o dtype dessa feature é object. Para converter em float, primeiro todos os valores dessa feature será convertido para valor numérico, o que transformará esses valores em Nan e posteriormente será preenchido com a mediana da feature.\n",
        "\n",
        "Feature Enginnering será um primordial nesse dataset. Pois a maioria dos algoritmos não trabalham de forma eficaz com variáveis categóricas, logo usaremos `LabelEncoding()` para colunas binárias, `OneHotEncoding()` para colunas não binárias.\n",
        "\n",
        "Há também colunas com respostas muito similares e não binárias. Por exemplo `OnlineBackup` tem os valores Yes, No e No internet service, então para facilitar a análise, \"No internet service\" será convertido em  \"No\".\n",
        "\n",
        "Como CustomerID não tem relevância nesse momento, será retirado do dataframe."
      ],
      "metadata": {
        "id": "ncN2ro2eeql-"
      }
    },
    {
      "cell_type": "code",
      "source": [
        "# Cópia do dataframe original\n",
        "df1 = df.copy()\n",
        "df1.head()"
      ],
      "metadata": {
        "colab": {
          "base_uri": "https://localhost:8080/",
          "height": 386
        },
        "id": "GJ1kSBUEdbx1",
        "outputId": "2ce9be1f-1272-4449-866e-fc0331a126f0"
      },
      "execution_count": null,
      "outputs": [
        {
          "output_type": "execute_result",
          "data": {
            "text/plain": [
              "   customerID  gender  SeniorCitizen Partner Dependents  tenure PhoneService  \\\n",
              "0  7590-VHVEG  Female              0     Yes         No       1           No   \n",
              "1  5575-GNVDE    Male              0      No         No      34          Yes   \n",
              "2  3668-QPYBK    Male              0      No         No       2          Yes   \n",
              "3  7795-CFOCW    Male              0      No         No      45           No   \n",
              "4  9237-HQITU  Female              0      No         No       2          Yes   \n",
              "\n",
              "      MultipleLines InternetService OnlineSecurity  ... DeviceProtection  \\\n",
              "0  No phone service             DSL             No  ...               No   \n",
              "1                No             DSL            Yes  ...              Yes   \n",
              "2                No             DSL            Yes  ...               No   \n",
              "3  No phone service             DSL            Yes  ...              Yes   \n",
              "4                No     Fiber optic             No  ...               No   \n",
              "\n",
              "  TechSupport StreamingTV StreamingMovies        Contract PaperlessBilling  \\\n",
              "0          No          No              No  Month-to-month              Yes   \n",
              "1          No          No              No        One year               No   \n",
              "2          No          No              No  Month-to-month              Yes   \n",
              "3         Yes          No              No        One year               No   \n",
              "4          No          No              No  Month-to-month              Yes   \n",
              "\n",
              "               PaymentMethod MonthlyCharges  TotalCharges Churn  \n",
              "0           Electronic check          29.85         29.85    No  \n",
              "1               Mailed check          56.95        1889.5    No  \n",
              "2               Mailed check          53.85        108.15   Yes  \n",
              "3  Bank transfer (automatic)          42.30       1840.75    No  \n",
              "4           Electronic check          70.70        151.65   Yes  \n",
              "\n",
              "[5 rows x 21 columns]"
            ],
            "text/html": [
              "\n",
              "  <div id=\"df-05542985-4b84-4366-bb3d-741f03cc01ee\">\n",
              "    <div class=\"colab-df-container\">\n",
              "      <div>\n",
              "<style scoped>\n",
              "    .dataframe tbody tr th:only-of-type {\n",
              "        vertical-align: middle;\n",
              "    }\n",
              "\n",
              "    .dataframe tbody tr th {\n",
              "        vertical-align: top;\n",
              "    }\n",
              "\n",
              "    .dataframe thead th {\n",
              "        text-align: right;\n",
              "    }\n",
              "</style>\n",
              "<table border=\"1\" class=\"dataframe\">\n",
              "  <thead>\n",
              "    <tr style=\"text-align: right;\">\n",
              "      <th></th>\n",
              "      <th>customerID</th>\n",
              "      <th>gender</th>\n",
              "      <th>SeniorCitizen</th>\n",
              "      <th>Partner</th>\n",
              "      <th>Dependents</th>\n",
              "      <th>tenure</th>\n",
              "      <th>PhoneService</th>\n",
              "      <th>MultipleLines</th>\n",
              "      <th>InternetService</th>\n",
              "      <th>OnlineSecurity</th>\n",
              "      <th>...</th>\n",
              "      <th>DeviceProtection</th>\n",
              "      <th>TechSupport</th>\n",
              "      <th>StreamingTV</th>\n",
              "      <th>StreamingMovies</th>\n",
              "      <th>Contract</th>\n",
              "      <th>PaperlessBilling</th>\n",
              "      <th>PaymentMethod</th>\n",
              "      <th>MonthlyCharges</th>\n",
              "      <th>TotalCharges</th>\n",
              "      <th>Churn</th>\n",
              "    </tr>\n",
              "  </thead>\n",
              "  <tbody>\n",
              "    <tr>\n",
              "      <th>0</th>\n",
              "      <td>7590-VHVEG</td>\n",
              "      <td>Female</td>\n",
              "      <td>0</td>\n",
              "      <td>Yes</td>\n",
              "      <td>No</td>\n",
              "      <td>1</td>\n",
              "      <td>No</td>\n",
              "      <td>No phone service</td>\n",
              "      <td>DSL</td>\n",
              "      <td>No</td>\n",
              "      <td>...</td>\n",
              "      <td>No</td>\n",
              "      <td>No</td>\n",
              "      <td>No</td>\n",
              "      <td>No</td>\n",
              "      <td>Month-to-month</td>\n",
              "      <td>Yes</td>\n",
              "      <td>Electronic check</td>\n",
              "      <td>29.85</td>\n",
              "      <td>29.85</td>\n",
              "      <td>No</td>\n",
              "    </tr>\n",
              "    <tr>\n",
              "      <th>1</th>\n",
              "      <td>5575-GNVDE</td>\n",
              "      <td>Male</td>\n",
              "      <td>0</td>\n",
              "      <td>No</td>\n",
              "      <td>No</td>\n",
              "      <td>34</td>\n",
              "      <td>Yes</td>\n",
              "      <td>No</td>\n",
              "      <td>DSL</td>\n",
              "      <td>Yes</td>\n",
              "      <td>...</td>\n",
              "      <td>Yes</td>\n",
              "      <td>No</td>\n",
              "      <td>No</td>\n",
              "      <td>No</td>\n",
              "      <td>One year</td>\n",
              "      <td>No</td>\n",
              "      <td>Mailed check</td>\n",
              "      <td>56.95</td>\n",
              "      <td>1889.5</td>\n",
              "      <td>No</td>\n",
              "    </tr>\n",
              "    <tr>\n",
              "      <th>2</th>\n",
              "      <td>3668-QPYBK</td>\n",
              "      <td>Male</td>\n",
              "      <td>0</td>\n",
              "      <td>No</td>\n",
              "      <td>No</td>\n",
              "      <td>2</td>\n",
              "      <td>Yes</td>\n",
              "      <td>No</td>\n",
              "      <td>DSL</td>\n",
              "      <td>Yes</td>\n",
              "      <td>...</td>\n",
              "      <td>No</td>\n",
              "      <td>No</td>\n",
              "      <td>No</td>\n",
              "      <td>No</td>\n",
              "      <td>Month-to-month</td>\n",
              "      <td>Yes</td>\n",
              "      <td>Mailed check</td>\n",
              "      <td>53.85</td>\n",
              "      <td>108.15</td>\n",
              "      <td>Yes</td>\n",
              "    </tr>\n",
              "    <tr>\n",
              "      <th>3</th>\n",
              "      <td>7795-CFOCW</td>\n",
              "      <td>Male</td>\n",
              "      <td>0</td>\n",
              "      <td>No</td>\n",
              "      <td>No</td>\n",
              "      <td>45</td>\n",
              "      <td>No</td>\n",
              "      <td>No phone service</td>\n",
              "      <td>DSL</td>\n",
              "      <td>Yes</td>\n",
              "      <td>...</td>\n",
              "      <td>Yes</td>\n",
              "      <td>Yes</td>\n",
              "      <td>No</td>\n",
              "      <td>No</td>\n",
              "      <td>One year</td>\n",
              "      <td>No</td>\n",
              "      <td>Bank transfer (automatic)</td>\n",
              "      <td>42.30</td>\n",
              "      <td>1840.75</td>\n",
              "      <td>No</td>\n",
              "    </tr>\n",
              "    <tr>\n",
              "      <th>4</th>\n",
              "      <td>9237-HQITU</td>\n",
              "      <td>Female</td>\n",
              "      <td>0</td>\n",
              "      <td>No</td>\n",
              "      <td>No</td>\n",
              "      <td>2</td>\n",
              "      <td>Yes</td>\n",
              "      <td>No</td>\n",
              "      <td>Fiber optic</td>\n",
              "      <td>No</td>\n",
              "      <td>...</td>\n",
              "      <td>No</td>\n",
              "      <td>No</td>\n",
              "      <td>No</td>\n",
              "      <td>No</td>\n",
              "      <td>Month-to-month</td>\n",
              "      <td>Yes</td>\n",
              "      <td>Electronic check</td>\n",
              "      <td>70.70</td>\n",
              "      <td>151.65</td>\n",
              "      <td>Yes</td>\n",
              "    </tr>\n",
              "  </tbody>\n",
              "</table>\n",
              "<p>5 rows × 21 columns</p>\n",
              "</div>\n",
              "      <button class=\"colab-df-convert\" onclick=\"convertToInteractive('df-05542985-4b84-4366-bb3d-741f03cc01ee')\"\n",
              "              title=\"Convert this dataframe to an interactive table.\"\n",
              "              style=\"display:none;\">\n",
              "        \n",
              "  <svg xmlns=\"http://www.w3.org/2000/svg\" height=\"24px\"viewBox=\"0 0 24 24\"\n",
              "       width=\"24px\">\n",
              "    <path d=\"M0 0h24v24H0V0z\" fill=\"none\"/>\n",
              "    <path d=\"M18.56 5.44l.94 2.06.94-2.06 2.06-.94-2.06-.94-.94-2.06-.94 2.06-2.06.94zm-11 1L8.5 8.5l.94-2.06 2.06-.94-2.06-.94L8.5 2.5l-.94 2.06-2.06.94zm10 10l.94 2.06.94-2.06 2.06-.94-2.06-.94-.94-2.06-.94 2.06-2.06.94z\"/><path d=\"M17.41 7.96l-1.37-1.37c-.4-.4-.92-.59-1.43-.59-.52 0-1.04.2-1.43.59L10.3 9.45l-7.72 7.72c-.78.78-.78 2.05 0 2.83L4 21.41c.39.39.9.59 1.41.59.51 0 1.02-.2 1.41-.59l7.78-7.78 2.81-2.81c.8-.78.8-2.07 0-2.86zM5.41 20L4 18.59l7.72-7.72 1.47 1.35L5.41 20z\"/>\n",
              "  </svg>\n",
              "      </button>\n",
              "      \n",
              "  <style>\n",
              "    .colab-df-container {\n",
              "      display:flex;\n",
              "      flex-wrap:wrap;\n",
              "      gap: 12px;\n",
              "    }\n",
              "\n",
              "    .colab-df-convert {\n",
              "      background-color: #E8F0FE;\n",
              "      border: none;\n",
              "      border-radius: 50%;\n",
              "      cursor: pointer;\n",
              "      display: none;\n",
              "      fill: #1967D2;\n",
              "      height: 32px;\n",
              "      padding: 0 0 0 0;\n",
              "      width: 32px;\n",
              "    }\n",
              "\n",
              "    .colab-df-convert:hover {\n",
              "      background-color: #E2EBFA;\n",
              "      box-shadow: 0px 1px 2px rgba(60, 64, 67, 0.3), 0px 1px 3px 1px rgba(60, 64, 67, 0.15);\n",
              "      fill: #174EA6;\n",
              "    }\n",
              "\n",
              "    [theme=dark] .colab-df-convert {\n",
              "      background-color: #3B4455;\n",
              "      fill: #D2E3FC;\n",
              "    }\n",
              "\n",
              "    [theme=dark] .colab-df-convert:hover {\n",
              "      background-color: #434B5C;\n",
              "      box-shadow: 0px 1px 3px 1px rgba(0, 0, 0, 0.15);\n",
              "      filter: drop-shadow(0px 1px 2px rgba(0, 0, 0, 0.3));\n",
              "      fill: #FFFFFF;\n",
              "    }\n",
              "  </style>\n",
              "\n",
              "      <script>\n",
              "        const buttonEl =\n",
              "          document.querySelector('#df-05542985-4b84-4366-bb3d-741f03cc01ee button.colab-df-convert');\n",
              "        buttonEl.style.display =\n",
              "          google.colab.kernel.accessAllowed ? 'block' : 'none';\n",
              "\n",
              "        async function convertToInteractive(key) {\n",
              "          const element = document.querySelector('#df-05542985-4b84-4366-bb3d-741f03cc01ee');\n",
              "          const dataTable =\n",
              "            await google.colab.kernel.invokeFunction('convertToInteractive',\n",
              "                                                     [key], {});\n",
              "          if (!dataTable) return;\n",
              "\n",
              "          const docLinkHtml = 'Like what you see? Visit the ' +\n",
              "            '<a target=\"_blank\" href=https://colab.research.google.com/notebooks/data_table.ipynb>data table notebook</a>'\n",
              "            + ' to learn more about interactive tables.';\n",
              "          element.innerHTML = '';\n",
              "          dataTable['output_type'] = 'display_data';\n",
              "          await google.colab.output.renderOutput(dataTable, element);\n",
              "          const docLink = document.createElement('div');\n",
              "          docLink.innerHTML = docLinkHtml;\n",
              "          element.appendChild(docLink);\n",
              "        }\n",
              "      </script>\n",
              "    </div>\n",
              "  </div>\n",
              "  "
            ]
          },
          "metadata": {},
          "execution_count": 4
        }
      ]
    },
    {
      "cell_type": "code",
      "source": [
        "# Exclusão da feature customerID\n",
        "df1.drop(['customerID'], axis = 1, inplace = True)"
      ],
      "metadata": {
        "id": "cmaxmYNVs5d-"
      },
      "execution_count": null,
      "outputs": []
    },
    {
      "cell_type": "code",
      "source": [
        "# Informação das Features\n",
        "df1.info()"
      ],
      "metadata": {
        "colab": {
          "base_uri": "https://localhost:8080/"
        },
        "id": "y47K0KFjEim3",
        "outputId": "bccb772a-947a-49bc-d669-73c30b571c88"
      },
      "execution_count": null,
      "outputs": [
        {
          "output_type": "stream",
          "name": "stdout",
          "text": [
            "<class 'pandas.core.frame.DataFrame'>\n",
            "RangeIndex: 7043 entries, 0 to 7042\n",
            "Data columns (total 20 columns):\n",
            " #   Column            Non-Null Count  Dtype  \n",
            "---  ------            --------------  -----  \n",
            " 0   gender            7043 non-null   object \n",
            " 1   SeniorCitizen     7043 non-null   int64  \n",
            " 2   Partner           7043 non-null   object \n",
            " 3   Dependents        7043 non-null   object \n",
            " 4   tenure            7043 non-null   int64  \n",
            " 5   PhoneService      7043 non-null   object \n",
            " 6   MultipleLines     7043 non-null   object \n",
            " 7   InternetService   7043 non-null   object \n",
            " 8   OnlineSecurity    7043 non-null   object \n",
            " 9   OnlineBackup      7043 non-null   object \n",
            " 10  DeviceProtection  7043 non-null   object \n",
            " 11  TechSupport       7043 non-null   object \n",
            " 12  StreamingTV       7043 non-null   object \n",
            " 13  StreamingMovies   7043 non-null   object \n",
            " 14  Contract          7043 non-null   object \n",
            " 15  PaperlessBilling  7043 non-null   object \n",
            " 16  PaymentMethod     7043 non-null   object \n",
            " 17  MonthlyCharges    7043 non-null   float64\n",
            " 18  TotalCharges      7043 non-null   object \n",
            " 19  Churn             7043 non-null   object \n",
            "dtypes: float64(1), int64(2), object(17)\n",
            "memory usage: 1.1+ MB\n"
          ]
        }
      ]
    },
    {
      "cell_type": "code",
      "source": [
        "# Convertento \"No phone service\" em \"No\" de 'MultipleLines'\n",
        "df1['MultipleLines'].replace('No phone service', 'No', inplace = True)\n",
        "\n",
        "df1['OnlineSecurity'].replace('No internet service', 'No', inplace = True)\n",
        "\n",
        "df1['OnlineBackup'].replace('No internet service', 'No', inplace = True)\n",
        "\n",
        "df1['DeviceProtection'].replace('No internet service', 'No', inplace = True)\n",
        "\n",
        "df1['TechSupport'].replace('No internet service', 'No', inplace = True)\n",
        "\n",
        "df1['StreamingTV'].replace('No internet service', 'No', inplace = True)\n",
        "\n",
        "df1['StreamingMovies'].replace('No internet service', 'No', inplace = True)"
      ],
      "metadata": {
        "id": "G9iQ_siCcYx5"
      },
      "execution_count": null,
      "outputs": []
    },
    {
      "cell_type": "code",
      "source": [
        "# Label Enconding\n",
        "cols = ['Churn', 'gender', 'OnlineSecurity', 'DeviceProtection', 'TechSupport', \n",
        "        'Partner', 'Dependents', 'PhoneService', 'StreamingTV', 'StreamingMovies', 'PaperlessBilling',\n",
        "        'OnlineBackup', 'MultipleLines']\n",
        "\n",
        "df1[cols] = df1[cols].apply(LabelEncoder().fit_transform)\n",
        "\n",
        "# One-Hot Enconding\n",
        "df1 = pd.get_dummies(df1, columns=['PaymentMethod', 'Contract', 'InternetService'], prefix_sep='_')"
      ],
      "metadata": {
        "id": "0d0yJZirZAvz"
      },
      "execution_count": null,
      "outputs": []
    },
    {
      "cell_type": "code",
      "source": [
        "# Renomeando coluna para correta formatação\n",
        "df1.rename(columns={'PaymentMethod_Credit card (automatic)': 'PaymentMethod_Credit_card_automatic',\n",
        "                    'PaymentMethod_Bank transfer (automatic)': 'PaymentMethod_Bank_transfer_automatic',\n",
        "                    'Contract_Month-to-month': 'Contract_Monthly', \n",
        "                    'PaymentMethod_Electronic check': 'PaymentMethod_Electronic_check',\n",
        "                    'PaymentMethod_Mailed check': 'PaymentMethod_Mailed_check',\n",
        "                    'Contract_One year': 'Contract_One_year',\n",
        "                    'Contract_Two year': 'Contract_Two_year',\n",
        "                    'InternetService_Fiber optic': 'InternetService_Fiber'}, inplace = True)"
      ],
      "metadata": {
        "id": "pMThb9wWYh5W"
      },
      "execution_count": null,
      "outputs": []
    },
    {
      "cell_type": "code",
      "source": [
        "df1.info()"
      ],
      "metadata": {
        "colab": {
          "base_uri": "https://localhost:8080/"
        },
        "id": "4MM7UNYk-dR8",
        "outputId": "deeb3ba0-f84e-4ed0-a671-d6943797b3e2"
      },
      "execution_count": null,
      "outputs": [
        {
          "output_type": "stream",
          "name": "stdout",
          "text": [
            "<class 'pandas.core.frame.DataFrame'>\n",
            "RangeIndex: 7043 entries, 0 to 7042\n",
            "Data columns (total 27 columns):\n",
            " #   Column                                 Non-Null Count  Dtype  \n",
            "---  ------                                 --------------  -----  \n",
            " 0   gender                                 7043 non-null   int64  \n",
            " 1   SeniorCitizen                          7043 non-null   int64  \n",
            " 2   Partner                                7043 non-null   int64  \n",
            " 3   Dependents                             7043 non-null   int64  \n",
            " 4   tenure                                 7043 non-null   int64  \n",
            " 5   PhoneService                           7043 non-null   int64  \n",
            " 6   MultipleLines                          7043 non-null   int64  \n",
            " 7   OnlineSecurity                         7043 non-null   int64  \n",
            " 8   OnlineBackup                           7043 non-null   int64  \n",
            " 9   DeviceProtection                       7043 non-null   int64  \n",
            " 10  TechSupport                            7043 non-null   int64  \n",
            " 11  StreamingTV                            7043 non-null   int64  \n",
            " 12  StreamingMovies                        7043 non-null   int64  \n",
            " 13  PaperlessBilling                       7043 non-null   int64  \n",
            " 14  MonthlyCharges                         7043 non-null   float64\n",
            " 15  TotalCharges                           7043 non-null   object \n",
            " 16  Churn                                  7043 non-null   int64  \n",
            " 17  PaymentMethod_Bank transfer_automatic  7043 non-null   uint8  \n",
            " 18  PaymentMethod_Credit_card_automatic    7043 non-null   uint8  \n",
            " 19  PaymentMethod_Electronic_check         7043 non-null   uint8  \n",
            " 20  PaymentMethod_Mailed_check             7043 non-null   uint8  \n",
            " 21  Contract_Monthly                       7043 non-null   uint8  \n",
            " 22  Contract_One_year                      7043 non-null   uint8  \n",
            " 23  Contract_Two_year                      7043 non-null   uint8  \n",
            " 24  InternetService_DSL                    7043 non-null   uint8  \n",
            " 25  InternetService_Fiber                  7043 non-null   uint8  \n",
            " 26  InternetService_No                     7043 non-null   uint8  \n",
            "dtypes: float64(1), int64(15), object(1), uint8(10)\n",
            "memory usage: 1004.3+ KB\n"
          ]
        }
      ]
    },
    {
      "cell_type": "code",
      "source": [
        "# Contagem dos valores 'Churn'\n",
        "fig, ax = plt.subplots()\n",
        "\n",
        "sns.countplot(data = df1, x = 'Churn')\n",
        "ax.set_frame_on(False)\n",
        "ax.get_yaxis().set_visible(False)\n",
        "ax.set_xticklabels(['Não Churn', 'Churn'], fontsize = 14)\n",
        "ax.set_xlabel(' ')\n",
        "\n",
        "for p in ax.patches:\n",
        "    width = p.get_width()\n",
        "    height = p.get_height()\n",
        "    x, y = p.get_xy() \n",
        "    ax.annotate(f'{height}', (x + width/2, y + height*1.02), ha='center', fontsize=16)"
      ],
      "metadata": {
        "colab": {
          "base_uri": "https://localhost:8080/",
          "height": 289
        },
        "id": "kbA5JVla91Na",
        "outputId": "f0e81507-bd75-495d-db4d-1111b544f401"
      },
      "execution_count": null,
      "outputs": [
        {
          "output_type": "display_data",
          "data": {
            "text/plain": [
              "<Figure size 432x288 with 1 Axes>"
            ],
            "image/png": "[encoded data removed]"
          },
          "metadata": {
            "needs_background": "light"
          }
        }
      ]
    },
    {
      "cell_type": "markdown",
      "source": [
        "Os casos de Churn equivalem a aproximadamente 36% da quantidade total de casos. Isso quer dizer que o dataset está desbalanceado, logo, para melhorar o desempenho dos classificadores de Machine Learning, é necessário coletar mais dados (não aplicável nessa situação) ou utilizar técnicas de balanceamento."
      ],
      "metadata": {
        "id": "uuhS5UEOELLp"
      }
    },
    {
      "cell_type": "code",
      "source": [
        "df1['TotalCharges'].value_counts(ascending=False)"
      ],
      "metadata": {
        "colab": {
          "base_uri": "https://localhost:8080/"
        },
        "id": "pUmB6vP_B183",
        "outputId": "9aa984e5-81ab-451d-bc57-a93e5050c42e"
      },
      "execution_count": null,
      "outputs": [
        {
          "output_type": "execute_result",
          "data": {
            "text/plain": [
              "          11\n",
              "20.2      11\n",
              "19.75      9\n",
              "20.05      8\n",
              "19.9       8\n",
              "          ..\n",
              "6849.4     1\n",
              "692.35     1\n",
              "130.15     1\n",
              "3211.9     1\n",
              "6844.5     1\n",
              "Name: TotalCharges, Length: 6531, dtype: int64"
            ]
          },
          "metadata": {},
          "execution_count": 12
        }
      ]
    },
    {
      "cell_type": "markdown",
      "source": [
        "`TotalCharges` apresenta valores em brancos `' '`, por isso está sendo indicado como object, logo, é necessário primeiro transformar em valor numérico e em seguida preencher os valores Nan. \n",
        "\n",
        "Nessa análise, como hipótese, vamos considerar que os valores ausentes desta variável serão a mediana de `TotalCharges`.\n",
        "\n"
      ],
      "metadata": {
        "id": "uHA-ovcK-YZK"
      }
    },
    {
      "cell_type": "code",
      "source": [
        "# Conversão para valores numéricos\n",
        "df1['TotalCharges'] = pd.to_numeric(df1.TotalCharges, errors='coerce')\n",
        "\n",
        "df1['TotalCharges']"
      ],
      "metadata": {
        "colab": {
          "base_uri": "https://localhost:8080/"
        },
        "id": "VqGV6a6KfQwU",
        "outputId": "e4f06e75-be37-49e6-b2e0-7b6137ccf79a"
      },
      "execution_count": null,
      "outputs": [
        {
          "output_type": "execute_result",
          "data": {
            "text/plain": [
              "0         29.85\n",
              "1       1889.50\n",
              "2        108.15\n",
              "3       1840.75\n",
              "4        151.65\n",
              "         ...   \n",
              "7038    1990.50\n",
              "7039    7362.90\n",
              "7040     346.45\n",
              "7041     306.60\n",
              "7042    6844.50\n",
              "Name: TotalCharges, Length: 7043, dtype: float64"
            ]
          },
          "metadata": {},
          "execution_count": 13
        }
      ]
    },
    {
      "cell_type": "code",
      "source": [
        "# Valores ausentes de TotalCharges antes da limpeza\n",
        "print('Valores ausentes de \"TotalCharges\":', df1['TotalCharges'].isna().sum())\n",
        "\n",
        "# Preenchendo os valores ausentes de TotalCharges com a mediana\n",
        "df1['TotalCharges'].fillna(df1['TotalCharges'].median(), inplace = True)\n",
        "\n",
        "# Valores ausentes de TotalCharges após limpeza\n",
        "print('Valores ausentes de \"TotalCharges\" após limpeza:', df1['TotalCharges'].isna().sum())"
      ],
      "metadata": {
        "colab": {
          "base_uri": "https://localhost:8080/"
        },
        "id": "xGpZY6i9g1EM",
        "outputId": "0f8b178b-32dc-4916-d171-860a9d3e01ec"
      },
      "execution_count": null,
      "outputs": [
        {
          "output_type": "stream",
          "name": "stdout",
          "text": [
            "Valores ausentes de \"TotalCharges\": 11\n",
            "Valores ausentes de \"TotalCharges\" após limpeza: 0\n"
          ]
        }
      ]
    },
    {
      "cell_type": "code",
      "source": [
        "# Verificando os valores TotalCharges\n",
        "df1['TotalCharges'].value_counts(ascending = False)"
      ],
      "metadata": {
        "colab": {
          "base_uri": "https://localhost:8080/"
        },
        "id": "AJKszfaGflbP",
        "outputId": "74d98f94-2331-48fc-bbd5-afbba1b165a8"
      },
      "execution_count": null,
      "outputs": [
        {
          "output_type": "execute_result",
          "data": {
            "text/plain": [
              "1397.475    11\n",
              "20.200      11\n",
              "19.750       9\n",
              "20.050       8\n",
              "19.900       8\n",
              "            ..\n",
              "6849.400     1\n",
              "692.350      1\n",
              "130.150      1\n",
              "3211.900     1\n",
              "6844.500     1\n",
              "Name: TotalCharges, Length: 6531, dtype: int64"
            ]
          },
          "metadata": {},
          "execution_count": 15
        }
      ]
    },
    {
      "cell_type": "code",
      "source": [
        "df1[['TotalCharges']].describe()"
      ],
      "metadata": {
        "colab": {
          "base_uri": "https://localhost:8080/",
          "height": 300
        },
        "id": "-Bd6bMN49oii",
        "outputId": "868ad408-6991-41cd-da35-5c70f8e03bbf"
      },
      "execution_count": null,
      "outputs": [
        {
          "output_type": "execute_result",
          "data": {
            "text/plain": [
              "       TotalCharges\n",
              "count   7043.000000\n",
              "mean    2281.916928\n",
              "std     2265.270398\n",
              "min       18.800000\n",
              "25%      402.225000\n",
              "50%     1397.475000\n",
              "75%     3786.600000\n",
              "max     8684.800000"
            ],
            "text/html": [
              "\n",
              "  <div id=\"df-31f6eb70-10fc-4924-8bb3-479103ba19fb\">\n",
              "    <div class=\"colab-df-container\">\n",
              "      <div>\n",
              "<style scoped>\n",
              "    .dataframe tbody tr th:only-of-type {\n",
              "        vertical-align: middle;\n",
              "    }\n",
              "\n",
              "    .dataframe tbody tr th {\n",
              "        vertical-align: top;\n",
              "    }\n",
              "\n",
              "    .dataframe thead th {\n",
              "        text-align: right;\n",
              "    }\n",
              "</style>\n",
              "<table border=\"1\" class=\"dataframe\">\n",
              "  <thead>\n",
              "    <tr style=\"text-align: right;\">\n",
              "      <th></th>\n",
              "      <th>TotalCharges</th>\n",
              "    </tr>\n",
              "  </thead>\n",
              "  <tbody>\n",
              "    <tr>\n",
              "      <th>count</th>\n",
              "      <td>7043.000000</td>\n",
              "    </tr>\n",
              "    <tr>\n",
              "      <th>mean</th>\n",
              "      <td>2281.916928</td>\n",
              "    </tr>\n",
              "    <tr>\n",
              "      <th>std</th>\n",
              "      <td>2265.270398</td>\n",
              "    </tr>\n",
              "    <tr>\n",
              "      <th>min</th>\n",
              "      <td>18.800000</td>\n",
              "    </tr>\n",
              "    <tr>\n",
              "      <th>25%</th>\n",
              "      <td>402.225000</td>\n",
              "    </tr>\n",
              "    <tr>\n",
              "      <th>50%</th>\n",
              "      <td>1397.475000</td>\n",
              "    </tr>\n",
              "    <tr>\n",
              "      <th>75%</th>\n",
              "      <td>3786.600000</td>\n",
              "    </tr>\n",
              "    <tr>\n",
              "      <th>max</th>\n",
              "      <td>8684.800000</td>\n",
              "    </tr>\n",
              "  </tbody>\n",
              "</table>\n",
              "</div>\n",
              "      <button class=\"colab-df-convert\" onclick=\"convertToInteractive('df-31f6eb70-10fc-4924-8bb3-479103ba19fb')\"\n",
              "              title=\"Convert this dataframe to an interactive table.\"\n",
              "              style=\"display:none;\">\n",
              "        \n",
              "  <svg xmlns=\"http://www.w3.org/2000/svg\" height=\"24px\"viewBox=\"0 0 24 24\"\n",
              "       width=\"24px\">\n",
              "    <path d=\"M0 0h24v24H0V0z\" fill=\"none\"/>\n",
              "    <path d=\"M18.56 5.44l.94 2.06.94-2.06 2.06-.94-2.06-.94-.94-2.06-.94 2.06-2.06.94zm-11 1L8.5 8.5l.94-2.06 2.06-.94-2.06-.94L8.5 2.5l-.94 2.06-2.06.94zm10 10l.94 2.06.94-2.06 2.06-.94-2.06-.94-.94-2.06-.94 2.06-2.06.94z\"/><path d=\"M17.41 7.96l-1.37-1.37c-.4-.4-.92-.59-1.43-.59-.52 0-1.04.2-1.43.59L10.3 9.45l-7.72 7.72c-.78.78-.78 2.05 0 2.83L4 21.41c.39.39.9.59 1.41.59.51 0 1.02-.2 1.41-.59l7.78-7.78 2.81-2.81c.8-.78.8-2.07 0-2.86zM5.41 20L4 18.59l7.72-7.72 1.47 1.35L5.41 20z\"/>\n",
              "  </svg>\n",
              "      </button>\n",
              "      \n",
              "  <style>\n",
              "    .colab-df-container {\n",
              "      display:flex;\n",
              "      flex-wrap:wrap;\n",
              "      gap: 12px;\n",
              "    }\n",
              "\n",
              "    .colab-df-convert {\n",
              "      background-color: #E8F0FE;\n",
              "      border: none;\n",
              "      border-radius: 50%;\n",
              "      cursor: pointer;\n",
              "      display: none;\n",
              "      fill: #1967D2;\n",
              "      height: 32px;\n",
              "      padding: 0 0 0 0;\n",
              "      width: 32px;\n",
              "    }\n",
              "\n",
              "    .colab-df-convert:hover {\n",
              "      background-color: #E2EBFA;\n",
              "      box-shadow: 0px 1px 2px rgba(60, 64, 67, 0.3), 0px 1px 3px 1px rgba(60, 64, 67, 0.15);\n",
              "      fill: #174EA6;\n",
              "    }\n",
              "\n",
              "    [theme=dark] .colab-df-convert {\n",
              "      background-color: #3B4455;\n",
              "      fill: #D2E3FC;\n",
              "    }\n",
              "\n",
              "    [theme=dark] .colab-df-convert:hover {\n",
              "      background-color: #434B5C;\n",
              "      box-shadow: 0px 1px 3px 1px rgba(0, 0, 0, 0.15);\n",
              "      filter: drop-shadow(0px 1px 2px rgba(0, 0, 0, 0.3));\n",
              "      fill: #FFFFFF;\n",
              "    }\n",
              "  </style>\n",
              "\n",
              "      <script>\n",
              "        const buttonEl =\n",
              "          document.querySelector('#df-31f6eb70-10fc-4924-8bb3-479103ba19fb button.colab-df-convert');\n",
              "        buttonEl.style.display =\n",
              "          google.colab.kernel.accessAllowed ? 'block' : 'none';\n",
              "\n",
              "        async function convertToInteractive(key) {\n",
              "          const element = document.querySelector('#df-31f6eb70-10fc-4924-8bb3-479103ba19fb');\n",
              "          const dataTable =\n",
              "            await google.colab.kernel.invokeFunction('convertToInteractive',\n",
              "                                                     [key], {});\n",
              "          if (!dataTable) return;\n",
              "\n",
              "          const docLinkHtml = 'Like what you see? Visit the ' +\n",
              "            '<a target=\"_blank\" href=https://colab.research.google.com/notebooks/data_table.ipynb>data table notebook</a>'\n",
              "            + ' to learn more about interactive tables.';\n",
              "          element.innerHTML = '';\n",
              "          dataTable['output_type'] = 'display_data';\n",
              "          await google.colab.output.renderOutput(dataTable, element);\n",
              "          const docLink = document.createElement('div');\n",
              "          docLink.innerHTML = docLinkHtml;\n",
              "          element.appendChild(docLink);\n",
              "        }\n",
              "      </script>\n",
              "    </div>\n",
              "  </div>\n",
              "  "
            ]
          },
          "metadata": {},
          "execution_count": 16
        }
      ]
    },
    {
      "cell_type": "code",
      "source": [
        "# Correlação entre as variáveis\n",
        "fig, ax = plt.subplots(figsize=(10, 10))\n",
        "\n",
        "corr = df1.corr()\n",
        "sns.heatmap(corr, cmap='coolwarm_r')\n",
        "ax.set_title('Mapa de correlação')\n",
        "plt.show()"
      ],
      "metadata": {
        "colab": {
          "base_uri": "https://localhost:8080/",
          "height": 807
        },
        "id": "frWGyw4f0X1R",
        "outputId": "2b59ae26-f5ae-47aa-913b-1eaf05599eec"
      },
      "execution_count": null,
      "outputs": [
        {
          "output_type": "display_data",
          "data": {
            "text/plain": [
              "<Figure size 720x720 with 2 Axes>"
            ],
            "image/png": "[encoded data removed]"
          },
          "metadata": {
            "needs_background": "light"
          }
        }
      ]
    },
    {
      "cell_type": "markdown",
      "source": [
        "# Visualização Gráfica\n",
        "\n",
        "Agora todas as features estão mais adequadas, com formato numérico e sem valores ausentes. O mapa de correlação não diz muitas informações, somente que há correlação negativa com `tenure` como esperado de features de caráter inverso e uma leve correlação positiva com `Contract_Monthly`, `PaymentMethod_Electronic_check` e `PaperlessBilling`\n",
        "\n",
        "Nesse momento, vamos visualizar as características das features e quais classes predominam através de gráficos."
      ],
      "metadata": {
        "id": "o4dRHW1NhYvR"
      }
    },
    {
      "cell_type": "code",
      "source": [
        "f, axs = plt.subplots(1, 4,  figsize = (14,3))\n",
        "\n",
        "df['InternetService'].value_counts().plot(kind='bar', ax = axs[0]);\n",
        "axs[0].set_title('InternetService')\n",
        "\n",
        "df1['MultipleLines'].value_counts().plot(kind='bar', ax = axs[1]);\n",
        "axs[1].set_title('MultipleLines')\n",
        "\n",
        "df1['OnlineSecurity'].value_counts().plot(kind='bar', ax = axs[2]);\n",
        "axs[2].set_title('OnlineSecurity')\n",
        "\n",
        "df1['OnlineBackup'].value_counts().plot(kind='bar', ax = axs[3]);\n",
        "axs[3].set_title('OnlineBackup')\n",
        "\n",
        "plt.show()"
      ],
      "metadata": {
        "colab": {
          "base_uri": "https://localhost:8080/",
          "height": 269
        },
        "id": "DIj5RLajn_cu",
        "outputId": "4db89ea3-8082-40bc-a17c-54a223522fd9"
      },
      "execution_count": null,
      "outputs": [
        {
          "output_type": "display_data",
          "data": {
            "text/plain": [
              "<Figure size 1008x216 with 4 Axes>"
            ],
            "image/png": "[encoded data removed]"
          },
          "metadata": {
            "needs_background": "light"
          }
        }
      ]
    },
    {
      "cell_type": "code",
      "source": [
        "f, axs = plt.subplots(1, 5,  figsize = (16,3))\n",
        "\n",
        "df1['TechSupport'].value_counts().plot(kind='bar', ax = axs[0]);\n",
        "axs[0].set_title('TechSupport')\n",
        "\n",
        "df1['StreamingTV'].value_counts().plot(kind='bar', ax = axs[1]);\n",
        "axs[1].set_title('StreamingTV')\n",
        "\n",
        "df1['StreamingMovies'].value_counts().plot(kind='bar', ax = axs[2]);\n",
        "axs[2].set_title('StreamingMovies')\n",
        "\n",
        "df1['PhoneService'].value_counts().plot(kind='bar', ax = axs[3]);\n",
        "axs[3].set_title('PhoneService')\n",
        "\n",
        "df1['DeviceProtection'].value_counts().plot(kind='bar', ax = axs[4]);\n",
        "axs[4].set_title('DeviceProtection')\n",
        "\n",
        "plt.show()\n"
      ],
      "metadata": {
        "colab": {
          "base_uri": "https://localhost:8080/",
          "height": 223
        },
        "id": "1r_SMTTehcaq",
        "outputId": "a125f628-5441-4331-9871-8d54ba3e71f6"
      },
      "execution_count": null,
      "outputs": [
        {
          "output_type": "display_data",
          "data": {
            "text/plain": [
              "<Figure size 1152x216 with 5 Axes>"
            ],
            "image/png": "[encoded data removed]"
          },
          "metadata": {
            "needs_background": "light"
          }
        }
      ]
    },
    {
      "cell_type": "code",
      "source": [
        "f, axs = plt.subplots(1, 4,  figsize = (14,3))\n",
        "\n",
        "df['MonthlyCharges'].value_counts().plot(kind='hist', ax = axs[0]);\n",
        "axs[0].set_title('MonthlyCharges')\n",
        "\n",
        "df['Contract'].value_counts().plot(kind='bar', ax = axs[1]);\n",
        "axs[1].set_title('Contract')\n",
        "\n",
        "df['PaymentMethod'].value_counts().plot(kind='bar', ax = axs[2]);\n",
        "axs[2].set_title('PaymentMethod')\n",
        "\n",
        "df['PaperlessBilling'].value_counts().plot(kind='bar', ax = axs[3]);\n",
        "axs[3].set_title('PaperlessBilling')\n",
        "\n",
        "plt.show()"
      ],
      "metadata": {
        "colab": {
          "base_uri": "https://localhost:8080/",
          "height": 346
        },
        "id": "jMkj0ylbjlFu",
        "outputId": "49b2665d-fc9e-4559-f1fb-cfc53b8670ca"
      },
      "execution_count": null,
      "outputs": [
        {
          "output_type": "display_data",
          "data": {
            "text/plain": [
              "<Figure size 1008x216 with 4 Axes>"
            ],
            "image/png": "[encoded data removed]"
          },
          "metadata": {
            "needs_background": "light"
          }
        }
      ]
    },
    {
      "cell_type": "code",
      "source": [
        "f, axs = plt.subplots(1, 3, figsize = (15,7))\n",
        "sns.axes_style(\"darkgrid\")\n",
        "sns.despine(left=True)\n",
        "\n",
        "sns.boxplot(y=df.MonthlyCharges, ax = axs[0], palette=\"Set1\")\n",
        "axs[0].set_title('MonthlyCharges')\n",
        "\n",
        "sns.boxplot(y=df1.TotalCharges, ax = axs[1], palette=\"Set2\")\n",
        "axs[1].set_title('TotalCharges')\n",
        "\n",
        "sns.boxplot(y=df1.tenure, ax = axs[2])\n",
        "axs[2].set_title('tenure')\n",
        "\n",
        "plt.show();"
      ],
      "metadata": {
        "colab": {
          "base_uri": "https://localhost:8080/",
          "height": 431
        },
        "id": "F_s1iw48PGRn",
        "outputId": "a118ea0b-46e5-471a-b808-3006a21d9254"
      },
      "execution_count": null,
      "outputs": [
        {
          "output_type": "display_data",
          "data": {
            "text/plain": [
              "<Figure size 1080x504 with 3 Axes>"
            ],
            "image/png": "[encoded data removed]"
          },
          "metadata": {
            "needs_background": "light"
          }
        }
      ]
    },
    {
      "cell_type": "code",
      "source": [
        "df['MonthlyCharges'].describe()"
      ],
      "metadata": {
        "colab": {
          "base_uri": "https://localhost:8080/"
        },
        "id": "y6QgbWtYTthv",
        "outputId": "d690776c-49a8-4eb1-f37d-f6ee1740bc8d"
      },
      "execution_count": null,
      "outputs": [
        {
          "output_type": "execute_result",
          "data": {
            "text/plain": [
              "count    7043.000000\n",
              "mean       64.761692\n",
              "std        30.090047\n",
              "min        18.250000\n",
              "25%        35.500000\n",
              "50%        70.350000\n",
              "75%        89.850000\n",
              "max       118.750000\n",
              "Name: MonthlyCharges, dtype: float64"
            ]
          },
          "metadata": {},
          "execution_count": 22
        }
      ]
    },
    {
      "cell_type": "code",
      "source": [
        "sns.boxplot(x=\"MonthlyCharges\", y=\"Churn\", data=df);"
      ],
      "metadata": {
        "colab": {
          "base_uri": "https://localhost:8080/",
          "height": 279
        },
        "id": "7aWDDdr9NM33",
        "outputId": "debabd58-60d5-402f-d234-ad8aec04deda"
      },
      "execution_count": null,
      "outputs": [
        {
          "output_type": "display_data",
          "data": {
            "text/plain": [
              "<Figure size 432x288 with 1 Axes>"
            ],
            "image/png": "[encoded data removed]"
          },
          "metadata": {
            "needs_background": "light"
          }
        }
      ]
    },
    {
      "cell_type": "markdown",
      "source": [
        "Os principais serviços usados são: serviço telefonico (PhoneService) e serviço de internet (InternetService), e fibra ótica é a preferência seguido por DSL.\n",
        "\n",
        "A maioria dos consumidores não utilizam nem proteção de aparelhos, nem suporte técnico e nem stream de tv ou filmes, nem múltiplas linhas. \n",
        "\n",
        "O tipo de contrato preferido é o mensal seguido do anual (2 anos) e por ultimo anual. A preferência é da conta vir eletronicamente, sem papel.\n",
        "\n",
        "Não aparenta haver outliers entre as features numéricas.\n",
        "\n",
        "Parece haver uma tendência entre os clientes Churn terem dívidas mensais entre 60 e 95 dólares, e uma mediana de 80 dólares, aproximadamente."
      ],
      "metadata": {
        "id": "Basuhvyznw3E"
      }
    },
    {
      "cell_type": "code",
      "source": [
        "fig, axs = plt.subplots(1, 3, figsize=(15, 6))\n",
        "\n",
        "sns.histplot(data = df1, x = df1['TotalCharges'], ax = axs[0], color = 'b')\n",
        "sns.histplot(data = df1, x = df1['MonthlyCharges'], ax = axs[1], color = 'r')\n",
        "sns.histplot(data = df1, x = df1['tenure'], ax = axs[2], color = 'g')\n",
        "\n",
        "plt.show()"
      ],
      "metadata": {
        "colab": {
          "base_uri": "https://localhost:8080/",
          "height": 388
        },
        "id": "-HMctl5mVh8P",
        "outputId": "2f288eb0-44c0-4b4e-bdb9-72d0b0f441fd"
      },
      "execution_count": null,
      "outputs": [
        {
          "output_type": "display_data",
          "data": {
            "text/plain": [
              "<Figure size 1080x432 with 3 Axes>"
            ],
            "image/png": "[encoded data removed]"
          },
          "metadata": {
            "needs_background": "light"
          }
        }
      ]
    },
    {
      "cell_type": "code",
      "source": [
        "# Análise exploratória após transformações\n",
        "df1_summary = eda.df_info(df1)\n",
        "display_all(df1_summary)"
      ],
      "metadata": {
        "id": "Kmq0oX6QwrY3",
        "colab": {
          "base_uri": "https://localhost:8080/",
          "height": 896
        },
        "outputId": "548cd762-15b0-4d0b-b955-d57237040dc4"
      },
      "execution_count": null,
      "outputs": [
        {
          "output_type": "display_data",
          "data": {
            "text/plain": [
              "                                      data_type data_type_grp  \\\n",
              "gender                                    int64     Numerical   \n",
              "SeniorCitizen                             int64     Numerical   \n",
              "Partner                                   int64     Numerical   \n",
              "Dependents                                int64     Numerical   \n",
              "tenure                                    int64     Numerical   \n",
              "PhoneService                              int64     Numerical   \n",
              "MultipleLines                             int64     Numerical   \n",
              "OnlineSecurity                            int64     Numerical   \n",
              "OnlineBackup                              int64     Numerical   \n",
              "DeviceProtection                          int64     Numerical   \n",
              "TechSupport                               int64     Numerical   \n",
              "StreamingTV                               int64     Numerical   \n",
              "StreamingMovies                           int64     Numerical   \n",
              "PaperlessBilling                          int64     Numerical   \n",
              "MonthlyCharges                          float64     Numerical   \n",
              "TotalCharges                            float64     Numerical   \n",
              "Churn                                     int64     Numerical   \n",
              "PaymentMethod_Bank transfer_automatic     uint8     Numerical   \n",
              "PaymentMethod_Credit_card_automatic       uint8     Numerical   \n",
              "PaymentMethod_Electronic_check            uint8     Numerical   \n",
              "PaymentMethod_Mailed_check                uint8     Numerical   \n",
              "Contract_Monthly                          uint8     Numerical   \n",
              "Contract_One_year                         uint8     Numerical   \n",
              "Contract_Two_year                         uint8     Numerical   \n",
              "InternetService_DSL                       uint8     Numerical   \n",
              "InternetService_Fiber                     uint8     Numerical   \n",
              "InternetService_No                        uint8     Numerical   \n",
              "\n",
              "                                      num_unique_values  \\\n",
              "gender                                                2   \n",
              "SeniorCitizen                                         2   \n",
              "Partner                                               2   \n",
              "Dependents                                            2   \n",
              "tenure                                               73   \n",
              "PhoneService                                          2   \n",
              "MultipleLines                                         2   \n",
              "OnlineSecurity                                        2   \n",
              "OnlineBackup                                          2   \n",
              "DeviceProtection                                      2   \n",
              "TechSupport                                           2   \n",
              "StreamingTV                                           2   \n",
              "StreamingMovies                                       2   \n",
              "PaperlessBilling                                      2   \n",
              "MonthlyCharges                                     1585   \n",
              "TotalCharges                                       6531   \n",
              "Churn                                                 2   \n",
              "PaymentMethod_Bank transfer_automatic                 2   \n",
              "PaymentMethod_Credit_card_automatic                   2   \n",
              "PaymentMethod_Electronic_check                        2   \n",
              "PaymentMethod_Mailed_check                            2   \n",
              "Contract_Monthly                                      2   \n",
              "Contract_One_year                                     2   \n",
              "Contract_Two_year                                     2   \n",
              "InternetService_DSL                                   2   \n",
              "InternetService_Fiber                                 2   \n",
              "InternetService_No                                    2   \n",
              "\n",
              "                                                                    sample_unique_values  \\\n",
              "gender                                                                            [0, 1]   \n",
              "SeniorCitizen                                                                     [0, 1]   \n",
              "Partner                                                                           [1, 0]   \n",
              "Dependents                                                                        [0, 1]   \n",
              "tenure                                             [1, 34, 2, 45, 8, 22, 10, 28, 62, 13]   \n",
              "PhoneService                                                                      [0, 1]   \n",
              "MultipleLines                                                                     [0, 1]   \n",
              "OnlineSecurity                                                                    [0, 1]   \n",
              "OnlineBackup                                                                      [1, 0]   \n",
              "DeviceProtection                                                                  [0, 1]   \n",
              "TechSupport                                                                       [0, 1]   \n",
              "StreamingTV                                                                       [0, 1]   \n",
              "StreamingMovies                                                                   [0, 1]   \n",
              "PaperlessBilling                                                                  [1, 0]   \n",
              "MonthlyCharges                         [29.85, 56.95, 53.85, 42.3, 70.7, 99.65, 89.1,...   \n",
              "TotalCharges                           [29.85, 1889.5, 108.15, 1840.75, 151.65, 820.5...   \n",
              "Churn                                                                             [0, 1]   \n",
              "PaymentMethod_Bank transfer_automatic                                             [0, 1]   \n",
              "PaymentMethod_Credit_card_automatic                                               [0, 1]   \n",
              "PaymentMethod_Electronic_check                                                    [1, 0]   \n",
              "PaymentMethod_Mailed_check                                                        [0, 1]   \n",
              "Contract_Monthly                                                                  [1, 0]   \n",
              "Contract_One_year                                                                 [0, 1]   \n",
              "Contract_Two_year                                                                 [0, 1]   \n",
              "InternetService_DSL                                                               [1, 0]   \n",
              "InternetService_Fiber                                                             [0, 1]   \n",
              "InternetService_No                                                                [0, 1]   \n",
              "\n",
              "                                      num_missing perc_missing  \n",
              "gender                                          0          0.0  \n",
              "SeniorCitizen                                   0          0.0  \n",
              "Partner                                         0          0.0  \n",
              "Dependents                                      0          0.0  \n",
              "tenure                                          0          0.0  \n",
              "PhoneService                                    0          0.0  \n",
              "MultipleLines                                   0          0.0  \n",
              "OnlineSecurity                                  0          0.0  \n",
              "OnlineBackup                                    0          0.0  \n",
              "DeviceProtection                                0          0.0  \n",
              "TechSupport                                     0          0.0  \n",
              "StreamingTV                                     0          0.0  \n",
              "StreamingMovies                                 0          0.0  \n",
              "PaperlessBilling                                0          0.0  \n",
              "MonthlyCharges                                  0          0.0  \n",
              "TotalCharges                                    0          0.0  \n",
              "Churn                                           0          0.0  \n",
              "PaymentMethod_Bank transfer_automatic           0          0.0  \n",
              "PaymentMethod_Credit_card_automatic             0          0.0  \n",
              "PaymentMethod_Electronic_check                  0          0.0  \n",
              "PaymentMethod_Mailed_check                      0          0.0  \n",
              "Contract_Monthly                                0          0.0  \n",
              "Contract_One_year                               0          0.0  \n",
              "Contract_Two_year                               0          0.0  \n",
              "InternetService_DSL                             0          0.0  \n",
              "InternetService_Fiber                           0          0.0  \n",
              "InternetService_No                              0          0.0  "
            ],
            "text/html": [
              "\n",
              "  <div id=\"df-2655aab3-9841-4f99-93f1-bcfbaacca2ae\">\n",
              "    <div class=\"colab-df-container\">\n",
              "      <div>\n",
              "<style scoped>\n",
              "    .dataframe tbody tr th:only-of-type {\n",
              "        vertical-align: middle;\n",
              "    }\n",
              "\n",
              "    .dataframe tbody tr th {\n",
              "        vertical-align: top;\n",
              "    }\n",
              "\n",
              "    .dataframe thead th {\n",
              "        text-align: right;\n",
              "    }\n",
              "</style>\n",
              "<table border=\"1\" class=\"dataframe\">\n",
              "  <thead>\n",
              "    <tr style=\"text-align: right;\">\n",
              "      <th></th>\n",
              "      <th>data_type</th>\n",
              "      <th>data_type_grp</th>\n",
              "      <th>num_unique_values</th>\n",
              "      <th>sample_unique_values</th>\n",
              "      <th>num_missing</th>\n",
              "      <th>perc_missing</th>\n",
              "    </tr>\n",
              "  </thead>\n",
              "  <tbody>\n",
              "    <tr>\n",
              "      <th>gender</th>\n",
              "      <td>int64</td>\n",
              "      <td>Numerical</td>\n",
              "      <td>2</td>\n",
              "      <td>[0, 1]</td>\n",
              "      <td>0</td>\n",
              "      <td>0.0</td>\n",
              "    </tr>\n",
              "    <tr>\n",
              "      <th>SeniorCitizen</th>\n",
              "      <td>int64</td>\n",
              "      <td>Numerical</td>\n",
              "      <td>2</td>\n",
              "      <td>[0, 1]</td>\n",
              "      <td>0</td>\n",
              "      <td>0.0</td>\n",
              "    </tr>\n",
              "    <tr>\n",
              "      <th>Partner</th>\n",
              "      <td>int64</td>\n",
              "      <td>Numerical</td>\n",
              "      <td>2</td>\n",
              "      <td>[1, 0]</td>\n",
              "      <td>0</td>\n",
              "      <td>0.0</td>\n",
              "    </tr>\n",
              "    <tr>\n",
              "      <th>Dependents</th>\n",
              "      <td>int64</td>\n",
              "      <td>Numerical</td>\n",
              "      <td>2</td>\n",
              "      <td>[0, 1]</td>\n",
              "      <td>0</td>\n",
              "      <td>0.0</td>\n",
              "    </tr>\n",
              "    <tr>\n",
              "      <th>tenure</th>\n",
              "      <td>int64</td>\n",
              "      <td>Numerical</td>\n",
              "      <td>73</td>\n",
              "      <td>[1, 34, 2, 45, 8, 22, 10, 28, 62, 13]</td>\n",
              "      <td>0</td>\n",
              "      <td>0.0</td>\n",
              "    </tr>\n",
              "    <tr>\n",
              "      <th>PhoneService</th>\n",
              "      <td>int64</td>\n",
              "      <td>Numerical</td>\n",
              "      <td>2</td>\n",
              "      <td>[0, 1]</td>\n",
              "      <td>0</td>\n",
              "      <td>0.0</td>\n",
              "    </tr>\n",
              "    <tr>\n",
              "      <th>MultipleLines</th>\n",
              "      <td>int64</td>\n",
              "      <td>Numerical</td>\n",
              "      <td>2</td>\n",
              "      <td>[0, 1]</td>\n",
              "      <td>0</td>\n",
              "      <td>0.0</td>\n",
              "    </tr>\n",
              "    <tr>\n",
              "      <th>OnlineSecurity</th>\n",
              "      <td>int64</td>\n",
              "      <td>Numerical</td>\n",
              "      <td>2</td>\n",
              "      <td>[0, 1]</td>\n",
              "      <td>0</td>\n",
              "      <td>0.0</td>\n",
              "    </tr>\n",
              "    <tr>\n",
              "      <th>OnlineBackup</th>\n",
              "      <td>int64</td>\n",
              "      <td>Numerical</td>\n",
              "      <td>2</td>\n",
              "      <td>[1, 0]</td>\n",
              "      <td>0</td>\n",
              "      <td>0.0</td>\n",
              "    </tr>\n",
              "    <tr>\n",
              "      <th>DeviceProtection</th>\n",
              "      <td>int64</td>\n",
              "      <td>Numerical</td>\n",
              "      <td>2</td>\n",
              "      <td>[0, 1]</td>\n",
              "      <td>0</td>\n",
              "      <td>0.0</td>\n",
              "    </tr>\n",
              "    <tr>\n",
              "      <th>TechSupport</th>\n",
              "      <td>int64</td>\n",
              "      <td>Numerical</td>\n",
              "      <td>2</td>\n",
              "      <td>[0, 1]</td>\n",
              "      <td>0</td>\n",
              "      <td>0.0</td>\n",
              "    </tr>\n",
              "    <tr>\n",
              "      <th>StreamingTV</th>\n",
              "      <td>int64</td>\n",
              "      <td>Numerical</td>\n",
              "      <td>2</td>\n",
              "      <td>[0, 1]</td>\n",
              "      <td>0</td>\n",
              "      <td>0.0</td>\n",
              "    </tr>\n",
              "    <tr>\n",
              "      <th>StreamingMovies</th>\n",
              "      <td>int64</td>\n",
              "      <td>Numerical</td>\n",
              "      <td>2</td>\n",
              "      <td>[0, 1]</td>\n",
              "      <td>0</td>\n",
              "      <td>0.0</td>\n",
              "    </tr>\n",
              "    <tr>\n",
              "      <th>PaperlessBilling</th>\n",
              "      <td>int64</td>\n",
              "      <td>Numerical</td>\n",
              "      <td>2</td>\n",
              "      <td>[1, 0]</td>\n",
              "      <td>0</td>\n",
              "      <td>0.0</td>\n",
              "    </tr>\n",
              "    <tr>\n",
              "      <th>MonthlyCharges</th>\n",
              "      <td>float64</td>\n",
              "      <td>Numerical</td>\n",
              "      <td>1585</td>\n",
              "      <td>[29.85, 56.95, 53.85, 42.3, 70.7, 99.65, 89.1,...</td>\n",
              "      <td>0</td>\n",
              "      <td>0.0</td>\n",
              "    </tr>\n",
              "    <tr>\n",
              "      <th>TotalCharges</th>\n",
              "      <td>float64</td>\n",
              "      <td>Numerical</td>\n",
              "      <td>6531</td>\n",
              "      <td>[29.85, 1889.5, 108.15, 1840.75, 151.65, 820.5...</td>\n",
              "      <td>0</td>\n",
              "      <td>0.0</td>\n",
              "    </tr>\n",
              "    <tr>\n",
              "      <th>Churn</th>\n",
              "      <td>int64</td>\n",
              "      <td>Numerical</td>\n",
              "      <td>2</td>\n",
              "      <td>[0, 1]</td>\n",
              "      <td>0</td>\n",
              "      <td>0.0</td>\n",
              "    </tr>\n",
              "    <tr>\n",
              "      <th>PaymentMethod_Bank transfer_automatic</th>\n",
              "      <td>uint8</td>\n",
              "      <td>Numerical</td>\n",
              "      <td>2</td>\n",
              "      <td>[0, 1]</td>\n",
              "      <td>0</td>\n",
              "      <td>0.0</td>\n",
              "    </tr>\n",
              "    <tr>\n",
              "      <th>PaymentMethod_Credit_card_automatic</th>\n",
              "      <td>uint8</td>\n",
              "      <td>Numerical</td>\n",
              "      <td>2</td>\n",
              "      <td>[0, 1]</td>\n",
              "      <td>0</td>\n",
              "      <td>0.0</td>\n",
              "    </tr>\n",
              "    <tr>\n",
              "      <th>PaymentMethod_Electronic_check</th>\n",
              "      <td>uint8</td>\n",
              "      <td>Numerical</td>\n",
              "      <td>2</td>\n",
              "      <td>[1, 0]</td>\n",
              "      <td>0</td>\n",
              "      <td>0.0</td>\n",
              "    </tr>\n",
              "    <tr>\n",
              "      <th>PaymentMethod_Mailed_check</th>\n",
              "      <td>uint8</td>\n",
              "      <td>Numerical</td>\n",
              "      <td>2</td>\n",
              "      <td>[0, 1]</td>\n",
              "      <td>0</td>\n",
              "      <td>0.0</td>\n",
              "    </tr>\n",
              "    <tr>\n",
              "      <th>Contract_Monthly</th>\n",
              "      <td>uint8</td>\n",
              "      <td>Numerical</td>\n",
              "      <td>2</td>\n",
              "      <td>[1, 0]</td>\n",
              "      <td>0</td>\n",
              "      <td>0.0</td>\n",
              "    </tr>\n",
              "    <tr>\n",
              "      <th>Contract_One_year</th>\n",
              "      <td>uint8</td>\n",
              "      <td>Numerical</td>\n",
              "      <td>2</td>\n",
              "      <td>[0, 1]</td>\n",
              "      <td>0</td>\n",
              "      <td>0.0</td>\n",
              "    </tr>\n",
              "    <tr>\n",
              "      <th>Contract_Two_year</th>\n",
              "      <td>uint8</td>\n",
              "      <td>Numerical</td>\n",
              "      <td>2</td>\n",
              "      <td>[0, 1]</td>\n",
              "      <td>0</td>\n",
              "      <td>0.0</td>\n",
              "    </tr>\n",
              "    <tr>\n",
              "      <th>InternetService_DSL</th>\n",
              "      <td>uint8</td>\n",
              "      <td>Numerical</td>\n",
              "      <td>2</td>\n",
              "      <td>[1, 0]</td>\n",
              "      <td>0</td>\n",
              "      <td>0.0</td>\n",
              "    </tr>\n",
              "    <tr>\n",
              "      <th>InternetService_Fiber</th>\n",
              "      <td>uint8</td>\n",
              "      <td>Numerical</td>\n",
              "      <td>2</td>\n",
              "      <td>[0, 1]</td>\n",
              "      <td>0</td>\n",
              "      <td>0.0</td>\n",
              "    </tr>\n",
              "    <tr>\n",
              "      <th>InternetService_No</th>\n",
              "      <td>uint8</td>\n",
              "      <td>Numerical</td>\n",
              "      <td>2</td>\n",
              "      <td>[0, 1]</td>\n",
              "      <td>0</td>\n",
              "      <td>0.0</td>\n",
              "    </tr>\n",
              "  </tbody>\n",
              "</table>\n",
              "</div>\n",
              "      <button class=\"colab-df-convert\" onclick=\"convertToInteractive('df-2655aab3-9841-4f99-93f1-bcfbaacca2ae')\"\n",
              "              title=\"Convert this dataframe to an interactive table.\"\n",
              "              style=\"display:none;\">\n",
              "        \n",
              "  <svg xmlns=\"http://www.w3.org/2000/svg\" height=\"24px\"viewBox=\"0 0 24 24\"\n",
              "       width=\"24px\">\n",
              "    <path d=\"M0 0h24v24H0V0z\" fill=\"none\"/>\n",
              "    <path d=\"M18.56 5.44l.94 2.06.94-2.06 2.06-.94-2.06-.94-.94-2.06-.94 2.06-2.06.94zm-11 1L8.5 8.5l.94-2.06 2.06-.94-2.06-.94L8.5 2.5l-.94 2.06-2.06.94zm10 10l.94 2.06.94-2.06 2.06-.94-2.06-.94-.94-2.06-.94 2.06-2.06.94z\"/><path d=\"M17.41 7.96l-1.37-1.37c-.4-.4-.92-.59-1.43-.59-.52 0-1.04.2-1.43.59L10.3 9.45l-7.72 7.72c-.78.78-.78 2.05 0 2.83L4 21.41c.39.39.9.59 1.41.59.51 0 1.02-.2 1.41-.59l7.78-7.78 2.81-2.81c.8-.78.8-2.07 0-2.86zM5.41 20L4 18.59l7.72-7.72 1.47 1.35L5.41 20z\"/>\n",
              "  </svg>\n",
              "      </button>\n",
              "      \n",
              "  <style>\n",
              "    .colab-df-container {\n",
              "      display:flex;\n",
              "      flex-wrap:wrap;\n",
              "      gap: 12px;\n",
              "    }\n",
              "\n",
              "    .colab-df-convert {\n",
              "      background-color: #E8F0FE;\n",
              "      border: none;\n",
              "      border-radius: 50%;\n",
              "      cursor: pointer;\n",
              "      display: none;\n",
              "      fill: #1967D2;\n",
              "      height: 32px;\n",
              "      padding: 0 0 0 0;\n",
              "      width: 32px;\n",
              "    }\n",
              "\n",
              "    .colab-df-convert:hover {\n",
              "      background-color: #E2EBFA;\n",
              "      box-shadow: 0px 1px 2px rgba(60, 64, 67, 0.3), 0px 1px 3px 1px rgba(60, 64, 67, 0.15);\n",
              "      fill: #174EA6;\n",
              "    }\n",
              "\n",
              "    [theme=dark] .colab-df-convert {\n",
              "      background-color: #3B4455;\n",
              "      fill: #D2E3FC;\n",
              "    }\n",
              "\n",
              "    [theme=dark] .colab-df-convert:hover {\n",
              "      background-color: #434B5C;\n",
              "      box-shadow: 0px 1px 3px 1px rgba(0, 0, 0, 0.15);\n",
              "      filter: drop-shadow(0px 1px 2px rgba(0, 0, 0, 0.3));\n",
              "      fill: #FFFFFF;\n",
              "    }\n",
              "  </style>\n",
              "\n",
              "      <script>\n",
              "        const buttonEl =\n",
              "          document.querySelector('#df-2655aab3-9841-4f99-93f1-bcfbaacca2ae button.colab-df-convert');\n",
              "        buttonEl.style.display =\n",
              "          google.colab.kernel.accessAllowed ? 'block' : 'none';\n",
              "\n",
              "        async function convertToInteractive(key) {\n",
              "          const element = document.querySelector('#df-2655aab3-9841-4f99-93f1-bcfbaacca2ae');\n",
              "          const dataTable =\n",
              "            await google.colab.kernel.invokeFunction('convertToInteractive',\n",
              "                                                     [key], {});\n",
              "          if (!dataTable) return;\n",
              "\n",
              "          const docLinkHtml = 'Like what you see? Visit the ' +\n",
              "            '<a target=\"_blank\" href=https://colab.research.google.com/notebooks/data_table.ipynb>data table notebook</a>'\n",
              "            + ' to learn more about interactive tables.';\n",
              "          element.innerHTML = '';\n",
              "          dataTable['output_type'] = 'display_data';\n",
              "          await google.colab.output.renderOutput(dataTable, element);\n",
              "          const docLink = document.createElement('div');\n",
              "          docLink.innerHTML = docLinkHtml;\n",
              "          element.appendChild(docLink);\n",
              "        }\n",
              "      </script>\n",
              "    </div>\n",
              "  </div>\n",
              "  "
            ]
          },
          "metadata": {}
        }
      ]
    },
    {
      "cell_type": "code",
      "source": [
        "# Correlação entre as variáveis\n",
        "fig, ax = plt.subplots(figsize=(10, 10))\n",
        "\n",
        "corr = df1.corr()\n",
        "sns.heatmap(corr, cmap='coolwarm_r')\n",
        "plt.show()"
      ],
      "metadata": {
        "id": "kxtktOoCG96V",
        "colab": {
          "base_uri": "https://localhost:8080/",
          "height": 795
        },
        "outputId": "f006d466-cb65-4834-ec4e-95602b1b6ddf"
      },
      "execution_count": null,
      "outputs": [
        {
          "output_type": "display_data",
          "data": {
            "text/plain": [
              "<Figure size 720x720 with 2 Axes>"
            ],
            "image/png": "[encoded data removed]"
          },
          "metadata": {
            "needs_background": "light"
          }
        }
      ]
    },
    {
      "cell_type": "markdown",
      "source": [
        "# **Machine Learning - Classificadores**\n",
        "\n",
        "\n",
        "<p align=center>\n",
        "<img src=\"https://github.com/Diego875621/Data_Science/blob/main/Churn%20Project/2853472.jpg?raw=true\" width=\"30%\"></p>\n",
        "<p align=center>Fonte: Freepik\n",
        "\n",
        "Como o nosso principal objetivo detectar quais clientes tem maiores chances de cometer Churn, a métrica avaliativa dos modelos será o `Recall`. Ou seja, queremos saber o quanto nossos modelos são sensíveis a clientes desse tipo.\n",
        "\n",
        "Os algoritmos classificadores serão:\n",
        "\n",
        "- Regressão Logística \n",
        "- XGBClassifier \n",
        "- KNeighborsClassifier \n",
        "- GaussianNB\n",
        "\n",
        "A precisão não será a principal métrica pois os clientes Não Churn são clientes que tendem menos a sair, ou seja, são mais fiéis a empresa, logo, um modelo que estime qual cliente dará Churn será de maior importância. \n",
        "\n",
        "Por exemplo, caso seja encontrado tais clientes, é possível realizar  ofertas ou brindes para que aumente o seu tempo como cliente da empresa (`tenure`).\n",
        "\n",
        "Será feita a separação entre feature e target e em seguida a divisão do dataset entre treino x teste x validação. O balanceamento utilizado será RandomUnderSampler, e somente nos dados de treino para não enviesar o resultado. E para a padronização dos dados será usado `RobustScaler`"
      ],
      "metadata": {
        "id": "JYQsICRLFYFh"
      }
    },
    {
      "cell_type": "code",
      "source": [
        "# Separação entre features e variável target\n",
        "X = df1.drop('Churn', axis=1)\n",
        "y = df1['Churn']"
      ],
      "metadata": {
        "id": "C2JXG1NmsH3t"
      },
      "execution_count": null,
      "outputs": []
    },
    {
      "cell_type": "code",
      "source": [
        "X_train, X_test, y_train, y_test = train_test_split(X, y, test_size = 0.2, random_state=42, stratify=y, shuffle=True)"
      ],
      "metadata": {
        "id": "BYXOYMxMMd8h"
      },
      "execution_count": null,
      "outputs": []
    },
    {
      "cell_type": "code",
      "source": [
        "# 1º Rebalanceamento com RandomUnderSampler\n",
        "rus = RandomUnderSampler()\n",
        "X_res, y_res = rus.fit_resample(X_train, y_train)"
      ],
      "metadata": {
        "id": "9ZnfA2fMsuS5"
      },
      "execution_count": null,
      "outputs": []
    },
    {
      "cell_type": "code",
      "source": [
        "# Classificadores\n",
        "classifiers = {\n",
        "    'RegressãoLogística':  LogisticRegression(max_iter = 500),\n",
        "    'XGBoost': XGBClassifier(),\n",
        "    'KNN': KNeighborsClassifier(),\n",
        "    'GaussianNB': GaussianNB(),\n",
        "    'LightGBM': LGBMClassifier(),\n",
        "    'SVC': SVC(),\n",
        "    'RandomForest': RandomForestClassifier()\n",
        "}"
      ],
      "metadata": {
        "id": "4r6m7UPsEFcU"
      },
      "execution_count": null,
      "outputs": []
    },
    {
      "cell_type": "code",
      "source": [
        "print('Cross-Validation dataset original:')\n",
        "for key, classifier in classifiers.items():\n",
        "  pipeline = make_pipeline(RobustScaler(), classifier)\n",
        "  classifier.fit(X_train, y_train)\n",
        "  training_score = cross_val_score(pipeline, X_train, y_train, scoring = 'recall')\n",
        "  print('Classificador: ', classifier.__class__.__name__, '-', round(training_score.mean(), 2) * 100, '% Recall')\n",
        "\n",
        "print('\\n')\n",
        "\n",
        "print('Cross-Validation dataset rebalanceado:')\n",
        "for key, classifier in classifiers.items():\n",
        "  pipeline = make_pipeline(RobustScaler(), classifier)\n",
        "  classifier.fit(X_res, y_res)\n",
        "  training_score = cross_val_score(pipeline, X_res, y_res, scoring = 'recall')\n",
        "  print('Classificador: ', classifier.__class__.__name__, '-', round(training_score.mean(), 2) * 100, '% Recall')"
      ],
      "metadata": {
        "colab": {
          "base_uri": "https://localhost:8080/"
        },
        "id": "zH8-DsXyPnr_",
        "outputId": "07ff745e-1d10-41e7-e41d-28a0f1026a36"
      },
      "execution_count": null,
      "outputs": [
        {
          "output_type": "stream",
          "name": "stdout",
          "text": [
            "Cross-Validation dataset original:\n",
            "Classificador:  LogisticRegression - 55.00000000000001 % Recall\n",
            "Classificador:  XGBClassifier - 52.0 % Recall\n",
            "Classificador:  KNeighborsClassifier - 53.0 % Recall\n",
            "Classificador:  GaussianNB - 78.0 % Recall\n",
            "Classificador:  LGBMClassifier - 51.0 % Recall\n",
            "Classificador:  SVC - 51.0 % Recall\n",
            "Classificador:  RandomForestClassifier - 48.0 % Recall\n",
            "\n",
            "\n",
            "Cross-Validation dataset rebalanceado:\n",
            "Classificador:  LogisticRegression - 80.0 % Recall\n",
            "Classificador:  XGBClassifier - 81.0 % Recall\n",
            "Classificador:  KNeighborsClassifier - 79.0 % Recall\n",
            "Classificador:  GaussianNB - 81.0 % Recall\n",
            "Classificador:  LGBMClassifier - 78.0 % Recall\n",
            "Classificador:  SVC - 80.0 % Recall\n",
            "Classificador:  RandomForestClassifier - 77.0 % Recall\n"
          ]
        }
      ]
    },
    {
      "cell_type": "markdown",
      "source": [
        "Acima, podemos perceber que a pontuação da Cross-Validation é mais alta após o balanceamento dos dados. De acordo com a pontuação dos classificadores, GaussianNB e XGBClassifier serão os principais escolhidos para esta análise."
      ],
      "metadata": {
        "id": "VM8pmcMV60NF"
      }
    },
    {
      "cell_type": "markdown",
      "source": [
        "# Árvore de decisão - XGBoost classifier\n",
        "\n",
        "\n",
        "Como estamos lidando com um dataset desbalanceado, além do balanceamento com RandomUnderSampler, é possível também usar o `StratifiedKFold`. Considerando que KFold é um cross-validator que divide o dataset em K divisões/dobras (fold), o StratifiedKFold é uma espécia de KFold melhorada, que garante que cada divisão do dataset terá a mesma proporção de observações.\n",
        "\n",
        "O dataset de treinamento será padronizado com RobustScaler, que também lida melhor com Outliers.\n",
        "\n",
        "O XGBoost Classifier é um algoritmo baseado em múlplicas árvores de decisão que juntamente com o gradiente de aprimoramento consegue dar resultados melhores, também chamado de *Ensemble*. \n",
        "\n",
        "Porém a otimização dos hiperparâmetros desse modelo pode demorar bastante, então a fim de otimizar o tempo de análise, será utilizado `GridSearchCV` de forma isolada em cada hiperparâmetro e o resultado de cada será agrupado em um modelo para posterior avaliação dos resultados com base no Recall.\n"
      ],
      "metadata": {
        "id": "QPlPxaKTsov0"
      }
    },
    {
      "cell_type": "code",
      "source": [
        "# StratifiedKFold para Cross-Validation\n",
        "kfold = StratifiedKFold(n_splits=10, shuffle=True)"
      ],
      "metadata": {
        "id": "0Ta6WkFVKFhI"
      },
      "execution_count": null,
      "outputs": []
    },
    {
      "cell_type": "code",
      "source": [
        "# Padronização dos  dados\n",
        "r_scaler = RobustScaler()\n",
        "\n",
        "r_scaler = RobustScaler().fit(X_train)\n",
        "X_train = r_scaler.transform(X_train)\n",
        "X_train = X_res"
      ],
      "metadata": {
        "id": "tI7J_x0RSKYA"
      },
      "execution_count": null,
      "outputs": []
    },
    {
      "cell_type": "code",
      "source": [
        "xgb = XGBClassifier(learning_rate=0.1, random_state=42)\n",
        "\n",
        "param_grid = {\n",
        " 'n_estimators':range(0,500,50),\n",
        "}\n",
        "\n",
        "# identificar melhor parâmetro\n",
        "\n",
        "grid_search = GridSearchCV(xgb, param_grid, scoring=\"recall\", n_jobs=-1, cv=kfold)\n",
        "grid_result = grid_search.fit(X_res, y_res)\n",
        "\n",
        "# ver resultados\n",
        "print(f\"Melhor: {grid_result.best_score_} para {grid_result.best_params_}\")"
      ],
      "metadata": {
        "colab": {
          "base_uri": "https://localhost:8080/"
        },
        "id": "__IJOIonZIdJ",
        "outputId": "fa9cdc07-422f-468f-af8a-4acd2d89f16c"
      },
      "execution_count": null,
      "outputs": [
        {
          "output_type": "stream",
          "name": "stdout",
          "text": [
            "Melhor: 0.8234317673378075 para {'n_estimators': 50}\n"
          ]
        }
      ]
    },
    {
      "cell_type": "code",
      "source": [
        "xgb = XGBClassifier(learning_rate=0.1, n_estimators= 50, random_state=42)\n",
        "\n",
        "param_grid = {\n",
        " 'max_depth':range(1,8,1),\n",
        " 'min_child_weight': range(1,5,1)\n",
        "}\n",
        "\n",
        "# identificar melhor parâmetro\n",
        "grid_search = GridSearchCV(xgb, param_grid, scoring=\"recall\", n_jobs=-1, cv=kfold)\n",
        "grid_result = grid_search.fit(X_res, y_res)\n",
        "\n",
        "# ver resultados\n",
        "print(f\"Melhor: {grid_result.best_score_} para {grid_result.best_params_}\")"
      ],
      "metadata": {
        "id": "0Iu63Tj6YyN6",
        "colab": {
          "base_uri": "https://localhost:8080/"
        },
        "outputId": "87549e08-71cb-4413-b935-094630e86115"
      },
      "execution_count": null,
      "outputs": [
        {
          "output_type": "stream",
          "name": "stdout",
          "text": [
            "Melhor: 0.828049217002237 para {'max_depth': 3, 'min_child_weight': 1}\n"
          ]
        }
      ]
    },
    {
      "cell_type": "code",
      "source": [
        "xgb = XGBClassifier(learning_rate=0.1, n_estimators= 50, max_depth= 1, min_child_weight= 1, random_state=42)\n",
        "\n",
        "param_grid = {\n",
        " 'learning_rate':[0.001, 0.01, 0.1, 1]\n",
        "}\n",
        "\n",
        "# identificar melhor parâmetro\n",
        "grid_search = GridSearchCV(xgb, param_grid, scoring=\"recall\", n_jobs=-1, cv=kfold)\n",
        "grid_result = grid_search.fit(X_res, y_res)\n",
        "\n",
        "# ver resultados\n",
        "print(f\"Melhor: {grid_result.best_score_} para {grid_result.best_params_}\")"
      ],
      "metadata": {
        "id": "4P7_1U7IY7jE",
        "colab": {
          "base_uri": "https://localhost:8080/"
        },
        "outputId": "f0c7b33b-047f-4405-fa46-cb88cf9f7240"
      },
      "execution_count": null,
      "outputs": [
        {
          "output_type": "stream",
          "name": "stdout",
          "text": [
            "Melhor: 0.8869664429530202 para {'learning_rate': 0.001}\n"
          ]
        }
      ]
    },
    {
      "cell_type": "code",
      "source": [
        "xgb = XGBClassifier(learning_rate=000.1, n_estimators= 50, max_depth= 1, min_child_weight= 1, random_state=42)\n",
        "\n",
        "param_grid = {\n",
        " 'gamma':[i/10.0 for i in range(0,5)]\n",
        "}\n",
        "\n",
        "# identificar melhor parâmetro\n",
        "grid_search = GridSearchCV(xgb, param_grid, scoring=\"recall\", n_jobs=-1, cv=kfold)\n",
        "grid_result = grid_search.fit(X_res, y_res)\n",
        "\n",
        "# ver resultados\n",
        "print(f\"Melhor: {grid_result.best_score_} para {grid_result.best_params_}\")"
      ],
      "metadata": {
        "colab": {
          "base_uri": "https://localhost:8080/"
        },
        "id": "QVrDWJdVE5Ne",
        "outputId": "4d8d1271-0268-47dd-fee3-c66252180691"
      },
      "execution_count": null,
      "outputs": [
        {
          "output_type": "stream",
          "name": "stdout",
          "text": [
            "Melhor: 0.814076062639821 para {'gamma': 0.0}\n"
          ]
        }
      ]
    },
    {
      "cell_type": "code",
      "source": [
        "xgb = XGBClassifier(learning_rate=000.1, n_estimators= 50, max_depth= 1, min_child_weight= 1, random_state=42,\n",
        "                    gamma = 0.0)\n",
        "\n",
        "param_grid = {\n",
        "    'scale_pos_weight': range(1,5,1),\n",
        "    'alpha': range(1,5,1)\n",
        "}\n",
        "\n",
        "# identificar melhor parâmetro\n",
        "grid_search = GridSearchCV(xgb, param_grid, scoring=\"recall\", n_jobs=-1, cv=kfold)\n",
        "grid_result = grid_search.fit(X_res, y_res)\n",
        "\n",
        "# ver resultados\n",
        "print(f\"Melhor: {grid_result.best_score_} para {grid_result.best_params_}\")"
      ],
      "metadata": {
        "colab": {
          "base_uri": "https://localhost:8080/"
        },
        "id": "aVlwesk15CPm",
        "outputId": "eb4e4777-da13-4efe-8453-722aa6f7fc71"
      },
      "execution_count": null,
      "outputs": [
        {
          "output_type": "stream",
          "name": "stdout",
          "text": [
            "Melhor: 0.967874720357942 para {'alpha': 1, 'scale_pos_weight': 4}\n"
          ]
        }
      ]
    },
    {
      "cell_type": "code",
      "source": [
        "xgb = XGBClassifier(learning_rate=000.1, n_estimators= 50, max_depth= 1, min_child_weight= 1, random_state=42,\n",
        "                    gamma = 0.0, scale_pos_weight = 4, alpha = 1)\n",
        "\n",
        "param_grid = {\n",
        " 'colsample_bytree ': [0.5, 0.7, 1],\n",
        " 'subsample': [0.5, 0.7, 1]\n",
        "}\n",
        "\n",
        "# identificar melhor parâmetro\n",
        "grid_search = GridSearchCV(xgb, param_grid, scoring=\"recall\", n_jobs=-1, cv=kfold)\n",
        "grid_result = grid_search.fit(X_res, y_res)\n",
        "\n",
        "# ver resultados\n",
        "print(f\"Melhor: {grid_result.best_score_} para {grid_result.best_params_}\")"
      ],
      "metadata": {
        "colab": {
          "base_uri": "https://localhost:8080/"
        },
        "id": "3iv0OiVvvS9n",
        "outputId": "5746bdb0-06d4-4398-cd25-f6967baade8e"
      },
      "execution_count": null,
      "outputs": [
        {
          "output_type": "stream",
          "name": "stdout",
          "text": [
            "Melhor: 0.9692259507829979 para {'colsample_bytree ': 0.5, 'subsample': 1}\n"
          ]
        }
      ]
    },
    {
      "cell_type": "code",
      "source": [
        "xgb = XGBClassifier(learning_rate=000.1, n_estimators= 50, max_depth= 1, min_child_weight= 1, random_state=42,\n",
        "                    gamma = 0.0, scale_pos_weight = 4, alpha = 1,\n",
        "                    colsample_bytree = 0.5, subsample = 0.5)\n",
        "\n",
        "xgb.fit(X_res, y_res)\n",
        "xgb_pred = xgb.predict(X_test)\n",
        "\n",
        "# Classification Report\n",
        "print(classification_report(y_test, xgb_pred))\n",
        "print('\\n')\n",
        "\n",
        "# Área sobre a Curva (AUC)\n",
        "xgb_auc = roc_auc_score(y_test, xgb_pred)\n",
        "print(f'AUC: {xgb_auc:.3f}')\n",
        "print('\\n')\n",
        "\n",
        "# Matriz de Confusão\n",
        "f, ax = plt.subplots(figsize=(8,6))\n",
        "ConfusionMatrixDisplay.from_predictions(y_test, xgb_pred, cmap = 'Greens',\n",
        "                                        display_labels=('No Churn', 'Churn'),\n",
        "                                        ax=ax, normalize ='true', values_format= '.0%');"
      ],
      "metadata": {
        "colab": {
          "base_uri": "https://localhost:8080/",
          "height": 646
        },
        "id": "a8mJUZum4Xv1",
        "outputId": "163d4f65-1a62-4d66-b7b0-1ae959a42354"
      },
      "execution_count": null,
      "outputs": [
        {
          "output_type": "stream",
          "name": "stdout",
          "text": [
            "              precision    recall  f1-score   support\n",
            "\n",
            "           0       0.98      0.37      0.54      1035\n",
            "           1       0.36      0.98      0.53       374\n",
            "\n",
            "    accuracy                           0.53      1409\n",
            "   macro avg       0.67      0.68      0.53      1409\n",
            "weighted avg       0.82      0.53      0.54      1409\n",
            "\n",
            "\n",
            "\n",
            "AUC: 0.676\n",
            "\n",
            "\n"
          ]
        },
        {
          "output_type": "display_data",
          "data": {
            "text/plain": [
              "<Figure size 576x432 with 2 Axes>"
            ],
            "image/png": "[encoded data removed]"
          },
          "metadata": {
            "needs_background": "light"
          }
        }
      ]
    },
    {
      "cell_type": "code",
      "source": [
        "# Ranking de importância das Features\n",
        "plot_importance(xgb)\n",
        "plt.show()"
      ],
      "metadata": {
        "colab": {
          "base_uri": "https://localhost:8080/",
          "height": 295
        },
        "id": "R0MuJicKBFEc",
        "outputId": "231ba99e-5de6-4b3f-deec-d35b6328313d"
      },
      "execution_count": null,
      "outputs": [
        {
          "output_type": "display_data",
          "data": {
            "text/plain": [
              "<Figure size 432x288 with 1 Axes>"
            ],
            "image/png": "[encoded data removed]"
          },
          "metadata": {
            "needs_background": "light"
          }
        }
      ]
    },
    {
      "cell_type": "code",
      "source": [
        "# Plot da Árvore de Decisão\n",
        "from IPython.display import Image  \n",
        "from sklearn.tree import export_graphviz\n",
        "import pydotplus\n",
        "\n",
        "fig, ax1 = plt.subplots(figsize = (8,8))\n",
        "plot_tree(xgb, ax=ax1)\n",
        "plt.show()"
      ],
      "metadata": {
        "id": "HsOnHl_eZPgH",
        "colab": {
          "base_uri": "https://localhost:8080/",
          "height": 195
        },
        "outputId": "67849a49-d138-415c-be0f-eea06ab356c7"
      },
      "execution_count": null,
      "outputs": [
        {
          "output_type": "display_data",
          "data": {
            "text/plain": [
              "<Figure size 576x576 with 1 Axes>"
            ],
            "image/png": "[encoded data removed]"
          },
          "metadata": {
            "needs_background": "light"
          }
        }
      ]
    },
    {
      "cell_type": "markdown",
      "source": [
        "Após a busca de hiperparâmetros ideias para o XGBoost Classifier através de GridSearchCV, obtivemos os seguintes valores:\n",
        "\n",
        "- gamma: 0.0\n",
        "- learning_rate: 0.001\n",
        "- max_depth: 1\n",
        "- min_child_weight: 1\n",
        "- n_estimators: 50\n",
        "- alpha: 1\n",
        "- scale_pos_weight: 4\n",
        "- colsample_bytree: 0.5\n",
        "- subsample: 1\n",
        "\n",
        "\n",
        "E o resultado final desse modelo foi um Recall de 98%. Os principais hiperparâmetros que aumentaram o score do recall foram: `alpha`, `scale_pos_weight`, `learning_rate`.\n",
        "\n",
        " A visulização da árvore de decisão final indica que `tenure` foi a principal feature para a construção da árvore de decisão. Segundo o XGBoost Classifier, as principais features foram: `Contract_Monthly`, `InternetService_Fiber` e `tenure`, em ordem decrescente.\n"
      ],
      "metadata": {
        "id": "msAxP41LS2C2"
      }
    },
    {
      "cell_type": "markdown",
      "source": [
        "# Gaussian Naive Bayes\n",
        "\n",
        "Esse classificador probabilístico que demonstrou resultado maior do que os outros antes mesmo do balanceamento, e após, melhorou um pouco. Ele é considerado \"Naive\" pois é independente (ignora correlações) e é baseado no teorema de probabilidade de Bayes."
      ],
      "metadata": {
        "id": "c7dbAvegb7so"
      }
    },
    {
      "cell_type": "code",
      "source": [
        "nb = GaussianNB()\n",
        "\n",
        "nb_params = {'var_smoothing': np.logspace(0, -9, num=100)}\n",
        "\n",
        "nb_grid_search = GridSearchCV(nb, nb_params, scoring=\"recall\", n_jobs=-1, cv=kfold)\n",
        "\n",
        "nb_grid_result = nb_grid_search.fit(X_res, y_res)\n",
        "\n",
        "# ver resultados\n",
        "print(f\"Melhor: {nb_grid_search.best_score_} para {nb_grid_search.best_params_}\")"
      ],
      "metadata": {
        "colab": {
          "base_uri": "https://localhost:8080/"
        },
        "id": "3Os_zLipba2X",
        "outputId": "285f8fb6-e6e4-424f-a1e4-1a48098160d6"
      },
      "execution_count": null,
      "outputs": [
        {
          "output_type": "stream",
          "name": "stdout",
          "text": [
            "Melhor: 0.8608366890380313 para {'var_smoothing': 8.111308307896873e-08}\n"
          ]
        }
      ]
    },
    {
      "cell_type": "code",
      "source": [
        "# Predições\n",
        "nb = nb_grid_search.best_estimator_\n",
        "nb.fit(X_res, y_res)\n",
        "nb_pred = nb.predict(X_test)\n",
        "\n",
        "# Classification Report\n",
        "print(classification_report(y_test, nb_pred))\n",
        "print('\\n')\n",
        "\n",
        "# Área sobre a Curva (AUC)\n",
        "nb_auc = roc_auc_score(y_test, nb_pred)\n",
        "print(f'AUC: {nb_auc:.3f}')\n",
        "print('\\n')\n",
        "\n",
        "# Matriz de Confusão\n",
        "f, ax = plt.subplots(figsize=(8,6))\n",
        "ConfusionMatrixDisplay.from_predictions(y_test, nb_pred, cmap = 'Blues',\n",
        "                                        display_labels=('No Churn', 'Churn'),\n",
        "                                        ax=ax, normalize ='true', values_format= '.0%');"
      ],
      "metadata": {
        "colab": {
          "base_uri": "https://localhost:8080/",
          "height": 646
        },
        "id": "bEy9-38gcFYQ",
        "outputId": "2d04b398-d098-42c0-aae3-e8ea445af07d"
      },
      "execution_count": null,
      "outputs": [
        {
          "output_type": "stream",
          "name": "stdout",
          "text": [
            "              precision    recall  f1-score   support\n",
            "\n",
            "           0       0.93      0.62      0.75      1035\n",
            "           1       0.45      0.87      0.60       374\n",
            "\n",
            "    accuracy                           0.69      1409\n",
            "   macro avg       0.69      0.75      0.67      1409\n",
            "weighted avg       0.80      0.69      0.71      1409\n",
            "\n",
            "\n",
            "\n",
            "AUC: 0.746\n",
            "\n",
            "\n"
          ]
        },
        {
          "output_type": "display_data",
          "data": {
            "text/plain": [
              "<Figure size 576x432 with 2 Axes>"
            ],
            "image/png": "[encoded data removed]"
          },
          "metadata": {
            "needs_background": "light"
          }
        }
      ]
    },
    {
      "cell_type": "code",
      "source": [
        "# Validação Cruzada das predições\n",
        "nbb_pred = cross_val_predict(nb, X_res, y_res, cv=kfold)\n",
        "\n",
        "xgbb_pred = cross_val_predict(xgb, X_res, y_res, cv=kfold)\n",
        "\n",
        "# Visualização da Curva ROC\n",
        "tree_fpr, tree_tpr, tree_threshold = roc_curve(y_res, xgbb_pred)\n",
        "nb_fpr, nb_tpr, nb_threshold = roc_curve(y_res, nbb_pred)\n",
        "\n",
        "def plot_roc_curve(tree_fpr, tree_tpr, nb_fpr, nb_tpr):\n",
        "  plt.figure(figsize=(16,8))\n",
        "  plt.title('Curva ROC')\n",
        "  plt.plot(tree_fpr, tree_tpr, label = f'XGBoost tree:{roc_auc_score(y_res, xgbb_pred)}')\n",
        "  plt.plot(nb_fpr, nb_tpr, label =f'Gausian NB:{roc_auc_score(y_res, nbb_pred)}')\n",
        "  plt.xlabel(\"Proporção de Falso Positivo\", fontsize=16)\n",
        "  plt.ylabel(\"Proporção de Verdadeiro Positivo\", fontsize=16)\n",
        "  plt.legend()\n",
        "\n",
        "plot_roc_curve(tree_fpr, tree_tpr,\n",
        "               nb_fpr, nb_tpr)\n",
        "\n",
        "plt.show()"
      ],
      "metadata": {
        "colab": {
          "base_uri": "https://localhost:8080/",
          "height": 518
        },
        "id": "HcM4JGkOw5Ws",
        "outputId": "2327d816-75f5-4efb-fba1-45eaa75d8afb"
      },
      "execution_count": null,
      "outputs": [
        {
          "output_type": "display_data",
          "data": {
            "text/plain": [
              "<Figure size 1152x576 with 1 Axes>"
            ],
            "image/png": "[encoded data removed]"
          },
          "metadata": {
            "needs_background": "light"
          }
        }
      ]
    },
    {
      "cell_type": "code",
      "source": [
        "from sklearn.model_selection import ShuffleSplit\n",
        "from sklearn.model_selection import learning_curve\n",
        "\n",
        "# Plot das curvas de aprendizados\n",
        "\n",
        "def plot_learning_curve(estimator1, estimator2, X, y, ylim=None, cv=None, n_jobs=1, train_sizes=np.linspace(.1, 1.0, 5)):\n",
        "  f, ((ax1, ax2)) = plt.subplots(1, 2, figsize=(10,10), sharey=True)\n",
        "  if ylim is not None:\n",
        "    plt.ylim(*ylim)\n",
        "\n",
        "    # 1 Estimator\n",
        "\n",
        "    train_sizes, train_scores, test_scores = learning_curve(\n",
        "        estimator1, X, y, cv=cv, n_jobs=n_jobs, train_sizes=train_sizes)\n",
        "    \n",
        "    train_scores_mean = np.mean(train_scores, axis=1)\n",
        "    train_scores_std = np.std(train_scores, axis=1)\n",
        "    test_scores_mean = np.mean(test_scores, axis=1)\n",
        "    test_scores_std = np.std(test_scores, axis=1)\n",
        "\n",
        "    ax1.fill_between(train_sizes, train_scores_mean - test_scores_std,\n",
        "                     train_scores_mean + train_scores_std, alpha=0.1, color=\"#ff9124\")\n",
        "    ax1.fill_between(train_sizes, test_scores_mean - test_scores_std,\n",
        "                     test_scores_mean + test_scores_std, alpha=0.1, color=\"#2492ff\")\n",
        "    ax1.plot(train_sizes, train_scores_mean, 'o-', label='Training score', color=\"#ff9124\")\n",
        "    ax1.plot(train_sizes, test_scores_mean, 'o-', label='Cross-validation score', color=\"#2492ff\",)\n",
        "    \n",
        "    ax1.set_title('Curva de aprendizado - XGBoost Classifier')\n",
        "    ax1.set_xlabel('Training size (m)')\n",
        "    ax1.set_ylabel('Score')\n",
        "    ax1.grid(True)\n",
        "    ax1.legend()\n",
        "    \n",
        "    # 2 Estimator\n",
        "\n",
        "    train_sizes, train_scores, test_scores = learning_curve(\n",
        "        estimator2, X, y, cv=cv, n_jobs=n_jobs, train_sizes=train_sizes)\n",
        "    \n",
        "    train_scores_mean = np.mean(train_scores, axis=1)\n",
        "    train_scores_std = np.std(train_scores, axis=1)\n",
        "    test_scores_mean = np.mean(test_scores, axis=1)\n",
        "    test_scores_std = np.std(test_scores, axis=1)\n",
        "\n",
        "    ax2.fill_between(train_sizes, train_scores_mean - test_scores_std,\n",
        "                     train_scores_mean + train_scores_std, alpha=0.1, color=\"#ff9124\")\n",
        "    ax2.fill_between(train_sizes, test_scores_mean - test_scores_std,\n",
        "                     test_scores_mean + test_scores_std, alpha=0.1, color=\"#2492ff\")\n",
        "    ax2.plot(train_sizes, train_scores_mean, 'o-', label='Training score', color=\"#ff9124\")\n",
        "    ax2.plot(train_sizes, test_scores_mean, 'o-', label='Cross-validation score', color=\"#2492ff\",)\n",
        "    \n",
        "    ax2.set_title('Curva de aprendizado - Gausian NB')\n",
        "    ax2.set_xlabel('Training size (m)')\n",
        "    ax2.set_ylabel('Score')\n",
        "    ax2.grid(True)\n",
        "    ax2.legend()\n"
      ],
      "metadata": {
        "id": "aGe--Xfw9lwf"
      },
      "execution_count": null,
      "outputs": []
    },
    {
      "cell_type": "code",
      "source": [
        "cv = ShuffleSplit(n_splits=100, test_size=0.2, random_state=42)\n",
        "plot_learning_curve(xgb, nb, X_res, y_res, (0.63, 0.85), cv=cv, n_jobs=4);"
      ],
      "metadata": {
        "colab": {
          "base_uri": "https://localhost:8080/",
          "height": 621
        },
        "id": "sV00eV2-K1FS",
        "outputId": "3015ff25-3d2a-47fc-a41f-9869c3fa05d6"
      },
      "execution_count": null,
      "outputs": [
        {
          "output_type": "display_data",
          "data": {
            "text/plain": [
              "<Figure size 720x720 with 2 Axes>"
            ],
            "image/png": "[encoded data removed]"
          },
          "metadata": {
            "needs_background": "light"
          }
        }
      ]
    },
    {
      "cell_type": "markdown",
      "source": [
        "# Métricas\n",
        "\n",
        "As métricas dos modelos classificatórios incluém:\n",
        "\n",
        "###Matrizes de confusão\n",
        "\n",
        "* TP - Positivos Verdadeiros - Previsão positiva e verdadeira. Um cliente churn é detectado como churn (corretamente)\n",
        "\n",
        "\n",
        "* TN - Negativos verdadeiros - Previsão negativa e verdadeira. Um cliente não churn é detectado como não churn (corretamente)\n",
        "\n",
        "\n",
        "* FP - Falsos positivos - Previsão positiva e falsa. Um cliente não churn é detectado como churn (incorretamente)\n",
        "\n",
        "\n",
        "* FN - Falsos negativos - Previsão negativa e falsa. Um cliente  churn é detectado como não churn (incorretamente)\n",
        "\n",
        "###Relatório de classificação \n",
        "\n",
        "Já no relatório de classificação é encontrado:\n",
        "\n",
        "* Precision (P) - Porcentagem de classificações corretas (P = TP/TP+FP)\n",
        "\n",
        "* Recall (R) - Porcentagem de classificações corretas em relação aos falsos negativos (R = TP/TP+FN). Representa a sensibilidade da classificação e será a principal métrica dessa análise.\n",
        "\n",
        "* F1-Score = É a média harmônica entre Precision e Recall (F1 = 2(P*R)/(P+R)\n",
        "\n",
        "### ROC\n",
        "\n",
        "A curva característica de funcionamento do receptor ou Curva ROC (*receiver operating characteristic curve*), avalia a taxa de verdadeiros positivos em relação aos falsos positivos. Dessa medida por ser criada a AUC (*Area Under the Curve*) que quanto maior o valor, melhor será a classificação.\n",
        "\n",
        "Nos exemplos acima, a AUC do GausianNB foi ligeiramente melhor(0.74) do que a AUC do XGBoost Classifier (0.68).\n",
        "\n",
        "### Curva de Aprendizado (Learning Curve)\n",
        "\n",
        "A curva de aprendizado compara as pontuações entre o treino e teste através de Cross-Validation. É útil para se visualizar até que ponto o tamanho de treinamento pode ser ideal e também verificar se existe underfit (bias) - o classificador não aprende sobre padrões dos dados, ou overfit (variance)- o classificador \"decora\" as respostas e não generaliza.\n",
        "\n",
        "Na curva acima, ambos os classificadores apresentam resultado semelhantes e satisfatórios."
      ],
      "metadata": {
        "id": "Jjq-yFOA3OBd"
      }
    },
    {
      "cell_type": "markdown",
      "source": [
        "# **Conclusão**\n",
        "\n",
        "\n",
        " <p align=center>\n",
        "<img src=\"https://github.com/Diego875621/Data_Science/blob/main/Churn%20Project/4194930.jpg?raw=true\" width=\"40%\"></p>\n",
        "<p align=center>Fonte: Freepik\n",
        "\n",
        "\n",
        "\n",
        "O Churn Rate é uma métrica que avalia a rotatividade dos clientes de uma empresa, logo, quanto maior, pior será para a empresa. A fim de se observar quais clientes tendem a deixar a empresa, é possível utilizar algoritmos juntamente com análise de dados para estimar quais são esses prováveis clientes.\n",
        "\n",
        "A análise exploratória revelou que os serviços mais procurados da empresa incluem serviços de telefone e internet. A maioria dos clientes preferem também que suas dívidas sejam enviadas eletronicamente, sem papel físico. Parece haver uma tendência entre os clientes Churn terem dívidas mensais entre 60 e 95 dólares, e uma mediana de 80 dólares, aproximadamente.\n",
        "\n",
        "Foi preciso limpar o dataset antes de aplicar os algoritmos. Primeiro, todas as features categóricas foram transformadas em numéricas. Dados ausentes foram convertidos na mediana da feature. O balanceamento utilizado da feature alvo foi através RandomUnderSampling. \n",
        "\n",
        "Dentre os quatro classificadores, o  XGBoost Classifier (98%), seguido do GaussianNB (87%), tiveram melhor performance da métrica Recall - sensibilidade/capacidade de detectar possíveis clientes Churn.\n",
        "Para tais prováveis clientes que caíram nessa classificação, é possível investigar mais detalhes sobre eles e dessa maneira fazer ações para prolongar o tempo de vida dele na empresa, como sugerindo ofertas melhores ou brindes, como por exemplo, dois meses de assinatura grátis.\n",
        "\n",
        "Como um case de negócio, a aplicação desse modelo classificatório pode gerar um CLV (Customer Lifetime Value) maior. Ou seja, valor que o cliente retornará ao longo do tempo será maior, e poderá ser possível reduzir despesas para conseguir clientes novos (CAC).\n",
        "\n",
        "<p align=center>\n",
        "<img src=\"https://github.com/Diego875621/Data_Science/blob/main/Churn%20Project/460736-PFPSO8-15.jpg?raw=true\" width=\"30%\"></p>\n",
        "<p align=center>Fonte: Freepik"
      ],
      "metadata": {
        "id": "43OozciFbf4k"
      }
    },
    {
      "cell_type": "markdown",
      "source": [
        "Referencias:\n",
        "\n",
        "<a href='https://www.freepik.com/vectors/talk-balloon'>Talk balloon vector created by freepik - www.freepik.com</a>\n",
        "\n",
        "<a href=\"https://www.freepik.com/free-vector/quitting-job-concept-illustration_9558391.htm#query=leaving&position=0&from_view=search\">Image by storyset</a> on Freepik\n",
        "\n",
        "<a href=\"https://www.freepik.com/free-vector/justice-two-hands-balance_1011196.htm#query=balance&position=12&from_view=search\">Image by macrovector</a> on Freepik\n",
        "\n",
        "<a href=\"https://www.freepik.com/free-vector/floating-books-cartoon-vector-icon-illustration-object-education-icon-concept-isolated-premium-vector-flat-cartoon-style_21948365.htm#query=dicionario&position=19&from_view=search\">Image by catalyststuff</a> on Freepik\n",
        "\n",
        "Image by <a href=\"https://www.freepik.com/free-vector/cancelled-events-announcement-illustration_8918481.htm#page=2&query=cancel&position=7&from_view=search\">Freepik</a>\n",
        "\n",
        "<a href=\"https://www.freepik.com/free-vector/filter-concept-illustration_5464420.htm#query=classifier&position=15&from_view=search\">Image by storyset</a> on Freepik"
      ],
      "metadata": {
        "id": "xCdyCWqFX6T3"
      }
    }
  ]
}